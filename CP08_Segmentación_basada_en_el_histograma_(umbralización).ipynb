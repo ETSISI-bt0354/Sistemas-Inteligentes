{
  "nbformat": 4,
  "nbformat_minor": 0,
  "metadata": {
    "colab": {
      "provenance": []
    },
    "kernelspec": {
      "name": "python3",
      "display_name": "Python 3"
    },
    "language_info": {
      "name": "python"
    }
  },
  "cells": [
    {
      "cell_type": "code",
      "source": [
        "import cv2\n",
        "import numpy as np\n",
        "import matplotlib.pyplot as plt\n",
        "from google.colab import drive\n",
        "\n",
        "# Montamos nuestro disco de Google Drive\n",
        "drive.mount(\"/content/drive\", force_remount=True)"
      ],
      "metadata": {
        "id": "mArdl6UQfhm3"
      },
      "execution_count": null,
      "outputs": []
    },
    {
      "cell_type": "markdown",
      "source": [
        "---\n",
        "\n",
        "# Segmentación basada en el histograma (umbralización)\n",
        "\n",
        "- Aprenderemos a segmentar una imagen basándonos en su **histograma**\n"
      ],
      "metadata": {
        "id": "MuCl0C_pt5lK"
      }
    },
    {
      "cell_type": "markdown",
      "source": [
        "---\n",
        "\n",
        "##**Ejemplo 1**: Umbral fijo\n",
        "\n",
        "La función ***cv2.threshold*** tiene los siguientes parámetros de Entrada:\n",
        "\n",
        "- imagen en niveles de gris sobre la que se va a realizar la umbralización\n",
        "valor del umbral (0..255)\n",
        "\n",
        "- valor de salida para representar los píxeles que estén por encima del umbral\n",
        "modo de umbralización:\n",
        "\n",
        "  **cv2.THRESH_BINARY**\n",
        "  \n",
        "    IF in(x,y) > Umbral then out(x,y) = maxval\n",
        "    ELSE out(x,y) = 0\n",
        "\n",
        "  **cv2.THRESH_BINARY_INV**\n",
        "    \n",
        "    IF in(x,y) > Umbral then out(x,y) = 0\n",
        "    ELSE out(x,y) = maxval\n",
        "\n",
        "  **cv2.THRESH_TRUNC**\n",
        "\n",
        "    IF in(x,y) > <blink>Umbral</blink> then out(x,y) = Umbral\n",
        "    ELSE out(x,y) = in(x,y)\n",
        "\n",
        "  **cv2.THRESH_TOZERO**\n",
        "  \n",
        "    IF in(x,y) > Umbral then out(x,y) =  in(x,y)\n",
        "    ELSE out(x,y) = 0\n",
        "\n",
        "  **cv2.THRESH_TOZERO_INV**\n",
        "  \n",
        "    IF in(x,y) > Umbral then out(x,y) =  0\n",
        "    ELSE out(x,y) = in(x,y)\n",
        "\n",
        "y los siguientes parámetros de Salida:\n",
        "\n",
        "- valor booleano\n",
        "- imagen de salida binaria una vez umbralizada (pero en niveles de gris)\n",
        "\n",
        "---\n"
      ],
      "metadata": {
        "id": "b6E30lsz3Ult"
      }
    },
    {
      "cell_type": "code",
      "source": [
        "import cv2\n",
        "import numpy as np\n",
        "import matplotlib.pyplot as plt\n",
        "from google.colab import drive\n",
        "\n",
        "drive.mount(\"/content/drive\", force_remount=True)\n",
        "\n",
        "path = \"/content/drive/MyDrive/Curso_24_25/imas/\"\n",
        "nombre_imagen = 'figurasgeo.png'\n",
        "path += nombre_imagen\n",
        "\n",
        "imgBGR = cv2.imread(path, cv2.IMREAD_COLOR)\n",
        "imgRGB = cv2.cvtColor(imgBGR, cv2.COLOR_BGR2RGB)\n",
        "imgGris = cv2.imread(path, cv2.IMREAD_GRAYSCALE)\n",
        "\n",
        "_, binary = cv2.threshold(imgGris, 200, 255, cv2.THRESH_BINARY)\n",
        "_, binary_inv = cv2.threshold(imgGris, 200, 255, cv2.THRESH_BINARY_INV)\n",
        "_, trunc = cv2.threshold(imgGris, 200, 255, cv2.THRESH_TRUNC)\n",
        "_, tozero = cv2.threshold(imgGris, 200, 255, cv2.THRESH_TOZERO)\n",
        "_, tozero_inv = cv2.threshold(imgGris, 200, 255, cv2.THRESH_TOZERO_INV)\n",
        "\n",
        "plt.subplot(321), plt.title('Original'), plt.axis(\"off\")\n",
        "plt.imshow(imgRGB)\n",
        "\n",
        "plt.subplot(322), plt.title('THRESH_BINARY'), plt.axis(\"off\")\n",
        "plt.imshow(binary, \"gray\")\n",
        "\n",
        "plt.subplot(323), plt.title('THRESH_BINARY_INV'), plt.axis(\"off\")\n",
        "plt.imshow(binary_inv, \"gray\")\n",
        "\n",
        "plt.subplot(324), plt.title('THRESH_TRUNC'), plt.axis(\"off\")\n",
        "plt.imshow(trunc, \"gray\")\n",
        "\n",
        "plt.subplot(325), plt.title('THRESH_TOZERO'), plt.axis(\"off\")\n",
        "plt.imshow(tozero, \"gray\")\n",
        "\n",
        "plt.subplot(326), plt.title('THRESH_TOZERO_INV'), plt.axis(\"off\")\n",
        "plt.imshow(tozero_inv, \"gray\")\n",
        "\n",
        "plt.show()\n"
      ],
      "metadata": {
        "id": "zyyG8AYs3ksg"
      },
      "execution_count": null,
      "outputs": []
    },
    {
      "cell_type": "markdown",
      "source": [
        "---\n",
        "\n",
        "##**Ejemplo 2**: Umbral adaptativo\n",
        "\n",
        "La función cv2.adaptiveThreshold tiene los siguientes parámetros de Entrada:\n",
        "\n",
        "- imagen en niveles de gris sobre la que se va a realizar la umbralización\n",
        "\n",
        "- valor de salida si se supera el umbral\n",
        "método de umbral adaptativo:\n",
        "\n",
        "  **ADAPTIVE_THRESH_MEAN_C** (el umbral es la media del área cubierta por la máscara menos la constante C)\n",
        "\n",
        "  **ADAPTIVE_THRESH_GAUSSIAN_C** (el umbral es la suma ponderada por una gaussiana del área cubierta por la máscara) menos la constante C\n",
        "\n",
        "- modo de umbralización (por ejemplo: cv.THRESH_BINARY)\n",
        "\n",
        "- tamaño de la máscara empleada\n",
        "\n",
        "- valor de la constante C\n",
        "\n",
        "y el siguiente parámetro de Salida:\n",
        "\n",
        "- imagen de salida binaria una vez umbralizada (pero en niveles de gris)\n",
        "\n",
        "---\n"
      ],
      "metadata": {
        "id": "Ylygf8HmAZiE"
      }
    },
    {
      "cell_type": "code",
      "source": [
        "ret,u1 = cv2.threshold(imgGris, 200, 255, cv2.THRESH_BINARY)\n",
        "u2 = cv2.adaptiveThreshold(imgGris, 255, cv2.ADAPTIVE_THRESH_MEAN_C,\n",
        "\tcv2.THRESH_BINARY, 11, 2)\n",
        "u3 = cv2.adaptiveThreshold(imgGris, 255, cv2.ADAPTIVE_THRESH_GAUSSIAN_C,\n",
        "\tcv2.THRESH_BINARY, 11, 2)\n",
        "\n",
        "titulos = ['Imagen Original en Gris', 'Umbral Global (U = 200)',\n",
        "\t'Adaptive Mean Threshold', 'Adaptive Gaussian Threshold']\n",
        "\n",
        "imagenes = [imgGris, u1, u2, u3]\n",
        "\n",
        "for i in range(4):\n",
        "\tplt.subplot(2, 2, i+1), plt.imshow(imagenes[i], 'gray')\n",
        "\tplt.title(titulos[i])\n",
        "\tplt.xticks([]), plt.yticks([])\n",
        "\n",
        "plt.show()\n"
      ],
      "metadata": {
        "id": "JDMANc9U5-05"
      },
      "execution_count": null,
      "outputs": []
    },
    {
      "cell_type": "markdown",
      "source": [
        "---\n",
        "\n",
        "#**EJERCICO 1**: Implementar el método de umbralización \"umbral mínimo entre máximos\"\n",
        "\n",
        "**Enunciado**:\n",
        "\n",
        "- Implementar el método de umbralización \"umbral mínimo entre máximos\" visto en clases de teoría\n",
        "- Comprobar su funcionamiento con las imágenes: digitos.png y arroz.png\n",
        "\n",
        "**Nota**: Este método de umbralización es adecuado para imágenes con un histograma claramente bimodal\n",
        "\n",
        "---"
      ],
      "metadata": {
        "id": "WA_zD_sLOzcX"
      }
    },
    {
      "cell_type": "code",
      "source": [],
      "metadata": {
        "id": "PVBnVtygk2dx"
      },
      "execution_count": null,
      "outputs": []
    },
    {
      "cell_type": "markdown",
      "source": [
        "---\n",
        "#**EJERCICO 2**: Implementar el método de umbralización \"umbral media local\"\n",
        "\n",
        "**Enunciado**:\n",
        "\n",
        "- Implementar el método de umbralización \"umbral media local\" visto en clases de teoría\n",
        "- Comprobar su funcionamiento con las imágenes: digitos.png y arroz.png\n",
        "\n",
        "---\n",
        "\n"
      ],
      "metadata": {
        "id": "suhZ7NBmYMY1"
      }
    },
    {
      "cell_type": "code",
      "source": [],
      "metadata": {
        "id": "m8VcbrWPFQge"
      },
      "execution_count": null,
      "outputs": []
    }
  ]
}