{
  "nbformat": 4,
  "nbformat_minor": 0,
  "metadata": {
    "colab": {
      "provenance": [],
      "toc_visible": true
    },
    "kernelspec": {
      "name": "python3",
      "display_name": "Python 3"
    },
    "language_info": {
      "name": "python"
    }
  },
  "cells": [
    {
      "cell_type": "code",
      "source": [
        "import cv2\n",
        "import numpy as np\n",
        "import matplotlib.pyplot as plt\n",
        "from google.colab.patches import cv2_imshow\n",
        "from google.colab import drive\n",
        "\n",
        "# Montamos nuestro disco de Google Drive\n",
        "drive.mount(\"/content/drive\", force_remount=True)"
      ],
      "metadata": {
        "id": "yVkNu3e4_B_c"
      },
      "execution_count": null,
      "outputs": []
    },
    {
      "cell_type": "markdown",
      "source": [
        "---\n",
        "\n",
        "#**Bloque I**: Tranformaciones geométricas\n",
        "\n",
        "- Aprenderemos a realizar transformaciones geométricas de imágenes digitales (traslación, rotación y escalado).\n"
      ],
      "metadata": {
        "id": "urCTJgsCv2rQ"
      }
    },
    {
      "cell_type": "markdown",
      "source": [
        "---\n",
        "\n",
        "##**Ejemplo I.1**: Traslación\n",
        "\n",
        "![imagen.png](data:image/png;base64,iVBORw0KGgoAAAANSUhEUgAAAOAAAABbCAYAAABqIIlXAAAKp2lDQ1BJQ0MgUHJvZmlsZQAASImVlwdQU+kWx79700MCpBCKlNCb9BZASughIEgHGyEJEEqIgQBiVxZXcC2IiGBZ0VURBdcCyFoQUSwsAva6QRYRdV0s2FB5NzCE3X3z3pt3Zr6c35yc75zz3bnfzP8CQEbzJJIsWB2AbHGeNCrYj5mQmMTEDQEcUAMUYAAoPH6uhB0ZGQYQm/J/t/e3AaTwN2wUtf79//9qFIEwlw8AFIlwiiCXn43wCWTJ+RJpHgCoCiRuXJAnUXALwnQpMiDCXQpOm2S5glMm+d1ETkyUPwBoPAB4Eo8nTQOAREfizHx+GlKH5IywvVggEiMsQNg7OzsH8aR9CFsgORKEFfVZKX+pk/a3minKmjxempInzzJh+ABRriSLt/j/fBz/27KzZFM9zJBFSpeGRCn6Ic/sbmYOV8nilNkRUywSTM6k4HRZSOwU83P9k6ZYwAvgKvdmzQ6b4lRREEdZJ48TM8XC3MDoKZbmRCl7pUr92VPMk073lWXGKuPpQo6yflF6TPwU54viZk9xbmY0dzrHXxmXyqKU8wvFwX7TfYOUZ8/O/ct5RRzl3rz0mBDl2XnT8wvF7OmauQnK2QTCgMDpnFhlviTPT9lLkhWpzBdmBSvjufnRyr15yAs5vTdS+QwzeKGRUwxEIBzwAD9PWJinGN4/R7JYKkpLz2OykVslZHLEfNuZTEd7RycAFHd08hV4y5i4exDj6nRsrS4APvHj4+Ot07EQLwCOeQBAXD4dM18GgGoOAJdH+TJp/mQMrfjBACJy++lAG+gDY2ABbIAjcAWewBcEglAQAWJAIlgA+CAdZAMpKABLwSpQAsrAJrAVVIPdYC84CI6AY6AZnAbnwSVwDfSAW+ABkINB8AKMgPdgDIIgHESGaJA2ZACZQtaQI8SCvKFAKAyKghKhZCgNEkMyaCm0BiqDyqFqaA9UB/0MnYLOQ1egXuge1A8NQ2+gzzAKJsF0WA82g+1gFsyGuXAMPB9OgxfBRXAxvAGugmvhw3ATfB6+Bt+C5fALeBQFUCooBsoQZYNiofxREagkVCpKilqOKkVVompRDahWVCfqBkqOeon6hMaiaWgm2gbtiQ5Bx6L56EXo5ej16Gr0QXQTugN9A92PHkF/w5AxuhhrjAeGg0nApGEKMCWYSsx+zEnMRcwtzCDmPRaLZWDNsW7YEGwiNgO7BLseuxPbiG3D9mIHsKM4HE4bZ43zwkXgeLg8XAluO+4w7hyuDzeI+4hXwRvgHfFB+CS8GL8aX4k/hD+L78MP4ccI6gRTggchgiAgLCZsJOwjtBKuEwYJY0QK0ZzoRYwhZhBXEauIDcSLxIfEtyoqKkYq7ipzVEQqK1WqVI6qXFbpV/lEopKsSP6keSQZaQPpAKmNdI/0lkwmm5F9yUnkPPIGch35Avkx+aMqTdVWlaMqUF2hWqPapNqn+kqNoGaqxlZboFakVql2XO262kt1grqZur86T325eo36KfU76qMUGsWBEkHJpqynHKJcoTyj4qhm1ECqgFpM3Uu9QB2goWjGNH8an7aGto92kTZIx9LN6Rx6Br2MfoTeTR/RoGo4a8RpFGrUaJzRkDNQDDMGh5HF2Mg4xrjN+Kypp8nWFGqu02zQ7NP8oDVDy1dLqFWq1ah1S+uzNlM7UDtTe7N2s/YjHbSOlc4cnQKdXToXdV7OoM/wnMGfUTrj2Iz7urCulW6U7hLdvbpduqN6+nrBehK97XoX9F7qM/R99TP0K/TP6g8b0Ay8DUQGFQbnDJ4zNZhsZhazitnBHDHUNQwxlBnuMew2HDMyN4o1Wm3UaPTImGjMMk41rjBuNx4xMTAJN1lqUm9y35RgyjJNN91m2mn6wczcLN5srVmz2TNzLXOOeZF5vflDC7KFj8Uii1qLm5ZYS5ZlpuVOyx4r2MrFKt2qxuq6NWztai2y3mndOxMz032meGbtzDs2JBu2Tb5NvU2/LcM2zHa1bbPtKzsTuyS7zXaddt/sXeyz7PfZP3CgOoQ6rHZodXjjaOXId6xxvOlEdgpyWuHU4vTa2dpZ6LzL+a4LzSXcZa1Lu8tXVzdXqWuD67CbiVuy2w63Oyw6K5K1nnXZHePu577C/bT7Jw9XjzyPYx5/etp4Znoe8nw2y3yWcNa+WQNeRl48rz1ecm+md7L3j95yH0Mfnk+tzxNfY1+B737fIbYlO4N9mP3Kz95P6nfS74O/h/8y/7YAVEBwQGlAdyA1MDawOvBxkFFQWlB90EiwS/CS4LYQTAg3ZHPIHY4eh8+p44yEuoUuC+3gkrjR3GrukzCrMGlYazgcHhq+JfzhbNPZ4tnNESCCE7El4lGkeeSiyF/mYOdEzqmZ8zTKIWppVGc0LXph9KHo9zF+MRtjHsRaxMpi2+PU4ubF1cV9iA+IL4+XJ9glLEu4lqiTKEpsScIlxSXtTxqdGzh369zBeS7zSubdnm8+v3D+lQU6C7IWnFmotpC38HgyJjk++VDyF14Er5Y3msJJ2ZEywvfnb+O/EPgKKgTDQi9huXAo1Su1PPVZmlfalrThdJ/0yvSXIn9Rteh1RkjG7owPmRGZBzLHs+KzGrPx2cnZp8RUcaa4I0c/pzCnV2ItKZHIF3ks2rpoRMqV7s+FcufntuTRETHUJbOQfSfrz/fOr8n/WBBXcLyQUigu7FpstXjd4qGioKKflqCX8Je0LzVcumpp/zL2sj3LoeUpy9tXGK8oXjG4MnjlwVXEVZmrfl1tv7p89bs18Wtai/WKVxYPfBf8XX2Jaom05M5az7W7v0d/L/q+e53Tuu3rvpUKSq+W2ZdVln1Zz19/9QeHH6p+GN+QuqF7o+vGXZuwm8Sbbm/22XywnFJeVD6wJXxLUwWzorTi3daFW69UOlfu3kbcJtsmrwqratlusn3T9i/V6dW3avxqGnfo7li348NOwc6+Xb67Gnbr7S7b/flH0Y939wTvaao1q63ci92bv/fpvrh9nT+xfqrbr7O/bP/XA+ID8oNRBzvq3OrqDuke2lgP18vqhw/PO9xzJOBIS4NNw55GRmPZUXBUdvT5z8k/3z7GPdZ+nHW84YTpiR0naSdLm6CmxU0jzenN8pbElt5ToafaWz1bT/5i+8uB04ana85onNl4lni2+Oz4uaJzo22Stpfn084PtC9sf3Ah4cLNjjkd3Re5Fy9fCrp0oZPdee6y1+XTVzyunLrKutp8zfVaU5dL18lfXX492e3a3XTd7XpLj3tPa++s3rN9Pn3nbwTcuHSTc/Pardm3em/H3r57Z94d+V3B3Wf3su69vp9/f+zByoeYh6WP1B9VPtZ9XPub5W+Nclf5mf6A/q4n0U8eDPAHXvye+/uXweKn5KeVQwZDdc8cn50eDhrueT73+eALyYuxlyV/UP7Y8cri1Yk/ff/sGkkYGXwtfT3+Zv1b7bcH3jm/ax+NHH38Pvv92IfSj9ofD35ifer8HP95aKzgC+5L1VfLr63fuN8ejmePj0t4Ut6EFEAhC05NBeDNAQDIiQDQehD9MHdSQ08YNKn7Jwj8J57U2RPmCkAD4hRSiN0GwHGFhPVFaq8EQCGDYnwB7OSkXFN6d0KbKwyLfKU0OHkKuQH3qLoS8A+b1O1/mfufHiiqKqT/3/2/AIq6Are4PjJcAAAAXGVYSWZNTQAqAAAACAAEAQYAAwAAAAEAAgAAARIAAwAAAAEAAQAAASgAAwAAAAEAAgAAh2kABAAAAAEAAAA+AAAAAAACoAIABAAAAAEAAADgoAMABAAAAAEAAABbAAAAABcgspgAAAK1aVRYdFhNTDpjb20uYWRvYmUueG1wAAAAAAA8eDp4bXBtZXRhIHhtbG5zOng9ImFkb2JlOm5zOm1ldGEvIiB4OnhtcHRrPSJYTVAgQ29yZSA2LjAuMCI+CiAgIDxyZGY6UkRGIHhtbG5zOnJkZj0iaHR0cDovL3d3dy53My5vcmcvMTk5OS8wMi8yMi1yZGYtc3ludGF4LW5zIyI+CiAgICAgIDxyZGY6RGVzY3JpcHRpb24gcmRmOmFib3V0PSIiCiAgICAgICAgICAgIHhtbG5zOnRpZmY9Imh0dHA6Ly9ucy5hZG9iZS5jb20vdGlmZi8xLjAvIgogICAgICAgICAgICB4bWxuczpleGlmPSJodHRwOi8vbnMuYWRvYmUuY29tL2V4aWYvMS4wLyI+CiAgICAgICAgIDx0aWZmOlBob3RvbWV0cmljSW50ZXJwcmV0YXRpb24+MjwvdGlmZjpQaG90b21ldHJpY0ludGVycHJldGF0aW9uPgogICAgICAgICA8dGlmZjpSZXNvbHV0aW9uVW5pdD4yPC90aWZmOlJlc29sdXRpb25Vbml0PgogICAgICAgICA8dGlmZjpDb21wcmVzc2lvbj4xPC90aWZmOkNvbXByZXNzaW9uPgogICAgICAgICA8dGlmZjpPcmllbnRhdGlvbj4xPC90aWZmOk9yaWVudGF0aW9uPgogICAgICAgICA8ZXhpZjpQaXhlbFlEaW1lbnNpb24+OTE8L2V4aWY6UGl4ZWxZRGltZW5zaW9uPgogICAgICAgICA8ZXhpZjpQaXhlbFhEaW1lbnNpb24+MjI0PC9leGlmOlBpeGVsWERpbWVuc2lvbj4KICAgICAgPC9yZGY6RGVzY3JpcHRpb24+CiAgIDwvcmRmOlJERj4KPC94OnhtcG1ldGE+ClMiqmsAABYeSURBVHgB7Z0H7BXFE8cXewV7hYgdC1gQFUWNhdgVO0KiqNiwGwRjjZ1o7CIGRURJ7L1EpGiwYMMGihUrVlRArKj///uMfl+W5/3ee3e8K78fO8m7e7e3tzs7O7NlZna31f9K4AIECgQK5EKBBXLJNWQaKBAoYBQIAhgYIVAgRwoEAcyR+CHrQIEggIEHAgVypEAQwByJH7IOFAgCGHggUCBHCgQBzJH4IetAgSCAgQcCBXKkQBDAHIkfsg4UCAIYeCBQIEcKBAFMSHx58HH3/ydMLnzWTCig+tYdtFX/SYrQqvRx8AVNQrnwTaBAAyiwUAPSmO+S+PPPPx2/Vq1a2c8nwAILLOAWWigeWWkDSau5gNrs5oRzI2hLnf/9999zJQUtVH+LLrroXO/qeYjHKfWk2ELjiMhzSpVw5ZVXuqdGjXLt2rVzkyZNcj/99JNbYYUV3Isvvuguu+wyd+aZZ9ZFBdKkQhdccMG64ucZSbgidDQywF9//WUNh57zxC+tvFXvpH/99de7008/3W2//fbuq6++cksssYTr0KGD1f9mm23mLrzwQqON/00tvIIA1qJQxfs/58xxE1991T399NP25qabbnJLL720tYJ9+/Z17du3r/gi+hHmRfAkfHEqLTrF9EJpJBAy4aqc9Kz3Cm9Jd7+X32KLLdzQoUPdkksuaUX89ddf3aWXXuqmTp3qWrdunajYQQBjko0KobcDtttuO9enTx8XZ+iBoAFi3vfff989+eST7rDDDnPLLLNMeThjkQpw8YXrzTffdM8//7z76KOP3OKLL+66du1qNID5/HgFQDsVFKhvfgLKDD0QwOWWW07Bse5BCxqLXP9EnlPqBQFawF9++cX+Uxn8JGAWWHFRL4cQf/DBB+6KK65w66+/vjvllFNsTlkRPfdHCdVvv/1muG666abuyy+/dEcccYTbfPPN3V577eV23XVXY0B6SOIXEaB7tXqpF2fVMaMXgPqHNgDzwyQQesAkVPv3GwRJQxT/f1SSYubvvvvO3Xbbbe7ll1929913n0Vde+21oz7JNQyG1dxu8ODBbsCAAW7QoEFu4MCBhtfGG2/sXnvtNRPEHvv2cKPHjHYrr7xy4XpCNXqNIKbooYamVp3Xk2foAeuhUpU4EsAqUeyV4v3++++ue/fu7t5773XDhw+3dwsvvHCtzzN/rx4DxVL//v0t/549e9pdIwApHiZNnuTuvPNOeycmzRzhiAwRFOhOjzV9+vSIGPkHBQHMqA5gBJi6bdu2jqEc0KZNG7trSGMPBbio9wOvRx991DDq16+fW3311e0/DYYEVHOi0047zX322Wf2Xu/yLIpGHOBw6623upEjR5bRKQJ+QiYIoCiRwV1CqPmChjIZZB0rCzHo119/7dDyAltttZXZN/VOd0wxApQ0gN4pPI+7euInnnjCHXPMMW6bbbYxNMBNo5E88KrMMwhgJUVSfqbyZagvEiP4xRZeX3zxhfvhhx/s1UorrWT3SuFaaqmlTDh5+WrJPAOI+e0hp8uMGTPczTff7Pbcc0/XsWNHt8oqq9j8tGiNXhDAHBikkolzQKGuLD/++ONyPNm+FCAhxQSx4YYbWjDmCc0Psy6jn98DDzzgll12Wev5MA+g+GL+2qtXr7LW0o+vMuVxD1rQPKjeTPKcPXt2GVOcDaIAGyj2S2DWrFnG4HkqlRAsNLT0xniujBgxwl177bWm+GJOu9hiixmuakDsIcdLEMAciV/0rP3h2iKLLGLoRjGuehOGq9jG5BkUFTetMisvcF5vvfXczJkzHfM/YJdddnEbbLBBWlnPU7phCDpP5GvZH4upa5VS8SSIteJn8f6NN96woeeOO+5o8z/y1PA4i/zrzSMIYL2Umg/jyV2Oov/xxx9GgWpCxnwrzyEeuEkB9N577xm+O+20U9lNTMove1GQSxDAglREEdHw/RtZ8REFCCZzPwCFDD6ieQECSG/MMPill14yNGRzZWjKO+JoWZE/xOY/v2oNTBrlCnPANKjaQtJs763s+Pnnn+cqlZidudbbb79t79ZZZx0nBYyGpXN9lPKDhOebb74x4zvZ4WsL6B14VfaEvFPPqbhZ4R96QKuecPEpIGZdddVVzYbGO5gaqGRMBBN3NaBz585293sWC8joItxkPtlnn33caqutZrlrOA2++LDiOjd27Fh7x3cTJ050d9xxh63t41k0SBv1IIBpU7jO9LOq8HrQESPjXC3/T4Z0DN0qmVPMTroYvAF9bw8ZXfxebPLkyZYrbnLYL2k8NExmNce7777r7r77btOO0oO/8MILjrV+LAnDZpglBAHMktqlvGAUCZvuKC40LMqr9/DJgAAJD5YcAUOGDHGffvqp/UebqCHb+PHjLYxdAtZcc037n5cAkjk9nDxyWCr1448/2nIvlYeVJxjkTz31VMMVWyGLqxHEGTNmujXWWCPTMgQBNHJnc0HgYE6YF4ZAVQ6wrQVuX4CGSvaQ40VC1KlTJ3PpApVhw4ZZ4yGb4HPPPWfbMNDz9e7d27AVo+eFOltF3H777Wb3mzZtmjvhhBNsGwmcBTDEq9GTY/m5557rjjrqKFMgtWnTOnP6J1bCqCA+oVVpflhT/+f1+6bSLWo4jIng0dKOHj3ajRs3znoV4cvKelYcsMcIjsPQUgKrOFne/fwPP/xwY8wjjzzSesFDDz3UFuGykPiAAw6wPXKKshZQ5pIpU6a43Xff3T311FNuyy23tAaPxk0NBKtSWFQMreUnCn3Vs2dF68QCGEfYogozr99HpVnkMJUX1y18J+lZWNwqIYMxGD7h3CzQN3rO+k7+4Idmk1XwO+ywg5swYYIJH0NmtmOAiRlCEy9r5vXpIVqttdZa5gGDV87WW2/ttNhZZVFDyNIplDGYTnDcljudn2YW/xMLIAWkS9dwhAqgImSIjUJezMY7JsUihoYGONCKkFHfN+cwMQD0kfNycyiP8OYOc/OrBNVjZXiWz8IT+tLzCeA5gPcADQc2TZZZnXzyye66665z3377rQkgPIlAZgmJ5oAUitbv+OOPt5a8W7du5n0u3zsqJAoUjsqXxahdunQxZsTg+9BDD5lA852IFpVGcw4TE1C+ar+ilVHM3RTOefZ8Pq2i6Mt7wmnkmR9ipGcvnv3339/mhrxnrogp5fHHH+cxU0gkgGC4995726R82223dVL7au2YKswvCcLHGJzuXhoolq9Q+Ndff90xv5ACQoT0v29J/ylftV8Ry9qc8PVxVaOP8GETZC9P1jZiotCwE3c19ueBpwF9k0U9JBqC0hJSSOYGmvSCLONqWhoEiTgC/quVvK20IRHaM3pN7uyrKHchxQ/3QIFGUUB8x1aS7MPDlIlFugCjsFdeecW98847bt9997X5N8KnbxqFQ7V0EgmgEmRPy/vvv9+1L7ksffLJJw6jLAKJP6CElLj6TzfP3iEbbbSRxecdBlAAI69sYRYQLoECDaAAHQX8x9zwwAMPLKconoT/xINZCx/IxB6CCnE+xn6FFoz1VgBGz8ruW4VieMpGrthlmPvJ7sXaLQBCNRLAU+D/V1i4zz8UkBDCB/qJ3/TMPcueT9SPLYB8CPII1j333OP6lOxXbE8HIFS+17xfqKuvvtqMo3ghyHmXeZ989eotvE+wav/BR+/9/34Y4QHmDwrAs/5PpY4K07ss7rEFEAYGUN0+9thjZshcccUVLYxdsb7//nv7z0W94bPPPusuvvhic3alwIy7ARQ4zCOJR3gtIG+fYPPyX+WolWd4HyiQJgUSzwFxaAUYQqLaFWirdpQxCBfOrZwmw8kxeMtzepAAY3S9oKHshx9+6B5++GGz15BHvYCwkgaCd/DBB9v5DhLoetMI8QIFGk2B2AKooSK9GgZP9v9AtSuQMEqhwoY4AKYHhBMvdABFjIy69fZ+fPf555+Xd2rmOQmgdkYrFgQwCfXCN42kQCwBFMMiSOedd57DpABIKPnPcg8AocLL/JJLLjFzA4LKEFWbt/bo0aO8VUA9Aqg49LgPPvigaVo1xLUMa1z4HvzpNfFbBJRmjU/D60CB1CiQSAC1LEXKF+wpLOMgHHMEwByRngYBZK4HSPnCfxxkAQm1PVS5IOTExYtdnuxVotf1KghgXWQKkVKkQGwlDLjguQK0L9n/gOWXX768GFPbrl9++eX27thjj7U7a8i0TwcBSbaJCwJjpAyXFkSBWD2ghpoc2HH22WeXHVfxLpAXP6f/4NbDAk3miQgngHYUf08Ag6jMDxYQ44Igs6QnLmgIynf02CiIAgQK5E2BugVQWkgO7LjrrrvKm54yLISZZYpg/RUmB7SduJvJNQ2/T52eg1a0cqvzWoRQOiwhYZkJQpREEMmHwzHZQEhlqpV3eB8okBYF6hZABA3A/QzQkhqYGN9PebSwH+O6667rjj76aIuni1Z/86y5YxIB0DCU03ow+lf6nSq/yru0sgyD5fRdGSc8BwpkTYG6BBBBEeOPGjXK7bzzzo4ds3xgVTFAr4SBnqEnfqEMTznGd1xJIwr45gcJtb2ocZHQILzkIXyiPvPT1dBT8Xkns4mG1FFphLBAgSwoUFMAYViYlx/DSFYv0LtpIa6Q1OEdV111lQ09CVccdp16oOS0DSCAOuoqiQAw3A3zNyNluLQAClQVQAkfPRk9H/ssApy7Rg/H3iCcRAOw1QLA/iECzA6sljj//PMVZP6jaEC3Lc0Pu5XME5UrJ8oRm/gDTn6PHBWNOIDf6+m/wv1ni5zxBRyFp7JO0iDp2yzvwh0a5k3HLMudRl5VBdDPkCEn5gd6NSqA+Rc9kZhmk002MSULq9t5T8UQl+EqWk+ERoC3DEoVfRunEomr4ajSa253KZQqy62GpTK8SOVTvanuVNdFwrE54VJVAMUICJLWTEUVjkpgPxd+qhDuKGP4VQPFrxanJb2jvGpA2B0AzyE0usyhFV5EmtA4+Liz2W3eZ0G0BL6o2xBPy+f/MLjzDCCoVI5acIXxXvEqvyW8iIxmBUrpovJOnTrVnXXWWWZOYTjP0B4HcTkqiJ4poZEoWXo8Ggic69nCnQZDazr90U2ixOfjj6r2gD5d1Dr7Yf5/mEY9psJrfaN488MdJoWJ8YXVFhwsaEYpRW8yYMAAE0hWemiuLYEtAn2w/zKfP/HEE4uATiwcoCNQyZ+xEkkpct09YEr5zxfJSvhg4oMOOsjKzK5yKLBgCnoTduoC2JvkrbfeKo8qLDCni0Y4DJPRbqMH0IZaOaEUO1uNyooofBQmCGDsKo33Aa2vFBZse4cXzn777VfuBWEQ4rBCY/DgwZb48OHD7TRXvlPrHS/XxsQW3mi8MT+xlZ9658bkkG4qTHMoA0NlNgArIgQBzKhW2C9n5MiRllv37t3NGcAXTl6gSQauueYax8LjvIFeAxwxMcmTyJ9WFLVXAWeED5zRuENvhvtAng1aVH0GAYyiSgphLNV65plnLOV27drZvZIZ/GVWWrpVGScF1KomKSGkpwbyxqcqsv/iB84IHwsAGDKzewND+yJCEMCMagUvIoF/9LPCuLN1nnxqabFhdg0D/XhZ/4ehi9rb+bSAXuA5ffp0W7TN/p9Dhw51+A1jw2YvIn8fW//bvP4HAcyI8v5ucVo5UsnUeAXJyZ3NYsUsRe91MiJh1WwkfERiuRzn/qnXxs7Kibi33HJLOawoNK3bDFG19OFlkxSQkGmzKiI2tRQLhwf2qgFY91gUJjGECn4RnRE6TnLC+6pv377W67EZ9G677VZeGkdRFD/vYoUeMKMa4OgxQVOVj4IDIQQQviCAolj9d9GMLVHYtxbQ7gtN0b3+1BsfMwhg42k6V4piCK0W4aXC5opYeqD1lu0NZikiw1TiXLRn0UwHBtEbavVNU3TPswxBADOiPvM7Aesjo4BhJ/6hAFo8MVNU3BD2XwogYFJaSYvM5l9acSMTCg2d5odKhec8BDQIoGog5bt/8CP+lFHAPBFDPcCeqbK9BUGMotZ/wyRU2FzZEhOQbVXvJKQSVOIoDDpnLYRBAKmBDIA9aAQ6R7GystF6sucN0LFjR3N+royjNMK9aQrg+TJmzBiL0P7fnfsUGyGDzr5SjDA2E8N4n7UQBgFUzaR8b9u2ra2NJBsOiwSobB8UThhO2kCRBbBIuIGLejWNItgSU/M/hp/4tN54442O8OOOO86pIZw9e7brUzpkCNMF6WQphEEAjc3Tv7BW8pBDDrGMGB7R4lLRKF3EyDhhA71793YdOnSw/5VCaoEZX8DPVw5VZq/hXWV41s/QCly0ARjH5iF42AUZ9uNvy47sHI/Hkiq5p7GwnG0y+/fv73xtdRb4BwFMmcpiCrLBM4N5HT6hkyZPtpxhEFpu3KaGDBliYbTQbByl1tgCc7xQBs1H5VBAg6K9efQuRxTLjRh0nDBhgqHCBl7jxo1zY8eONfsqtEbQ1BCOHz/evsPXtV+/fu6CCy5o0kabVtmCAKZFWS9dBIyWmcpns2KgS+lkVg2VUBpQ+cz/hg0bZueXe5/n/pfej2EamkXWLQLg/Mgjj5jWlnfqxfNGlrWVzP9QvrDEC1e0iy66yEYbzPEAXAEHDhxo55uoQZkyZYqd3kVjk2XDFzxhMuIYKhZgU2EY+YYbbjC/Tw4ppZVmjgjjcJ4GkCUTWIYRFxoNGg8EDKM2/qx77LGHeZkglNOmTbM5FQojevesmTcCZdveg3AWPnMmCXTGBgu+9NSiq84rwWCPZxKO8uz2DiiOPaR8CQKYMoGVvJiTZ/w9mfCfc845NufgpCmUBbIVZskAwi/qLqUGJpQ+JSWFhpx+XBgbfBVXDY0fJ4v/yp+VJsz3sLWyugR8aEgYfgL6L6d3FkmjNeWodYbVanSywJk8ggBmRelSPhJCMUHl+RgwMpAXE1vmERfwiRI+ooqxIz7LLUj+tCDQlEChkEHTzJ48CCqNYRKY17oKApiE6t43EhovqOpfKoxf1HfzWplVM57Hl1H4+kkWCXcfV/WMwlXPDEvZCIs9aydOnGhKL3rzuA2Kn5fyiHMPAhiHWhFxkzJe0u8iUMgkqDnhWw1X3knQ0DRzdDrDTwQprvA1gvBBC5qAilK7s4BWlVat0hNkET5pMAXUU0n4MFdwkFCSXd7Ui8IHWr0inoiLdugBY1KMitQx3JgU8KjgbEQqgOPXevbs6Xr16hUz1RA9TQpQZzSQmnvzjInipJNOqql40bfgx2ZZHI/OadA4zqPoGTFihKGuo/filiMIYEyKIWjsDta5c2dTX8+aNcsqFiUFLaNaxJjJhugpUUBKGHw/UbSwBSSCw5EJnTp1alJJE4UOK+sRPjTWeDJR34MGDTLfUmlc+S7OaKhVScL/Ub1F5RjCAgWaOQUkgBjczzjjDMfWkNg0u3btWlaExRGYRpMjCGACitZqs/Ks0ATFafGfaBipbT4YpagO49SVvmmKYHHSUhpBAEWJcG/RFJAQUkj1ikUocJgDFqEWAg6pU4DeCcEDpMVMPdM6Mgg9YB1EClECBdKiQLADpkXZkG6gQB0UCAJYB5FClECBtCgQBDAtyoZ0AwXqoMD/AQ1lnc7QUFDWAAAAAElFTkSuQmCC)\n",
        "\n",
        "---\n",
        "\n",
        "**Función** ***warpAffine***\n",
        "\n",
        "Sintaxis: cv2.warpAffine(imagen, matriz, (alto, ancho))\n",
        "\n",
        "Parámetros de entrada:\n",
        "- imagen: imagen sobre la que vamos a aplicar la transformación afín\n",
        "- matriz: matriz de transformación\n",
        "- (alto, ancho): dimensiones de la imagen\n",
        "\n",
        "Valor de retorno:\n",
        "- devuelve la imagen con la transformación realizada\n",
        "\n",
        "---"
      ],
      "metadata": {
        "id": "QGHxEohg_pTC"
      }
    },
    {
      "cell_type": "code",
      "execution_count": null,
      "metadata": {
        "id": "PO7hqVaiAyO1"
      },
      "outputs": [],
      "source": [
        "# Construimos el path de la imagen que vamos a leer del drive\n",
        "path = \"/content/drive/MyDrive/Curso_24_25/imas/\"\n",
        "nombre_imagen = 'teide.jpg'\n",
        "path += nombre_imagen\n",
        "\n",
        "# Leemos la imagen y la convertimos a RGB\n",
        "imgBGR = cv2.imread(path, cv2.IMREAD_COLOR)\n",
        "imgRGB = cv2.cvtColor(imgBGR, cv2.COLOR_BGR2RGB)\n",
        "\n",
        "alto, ancho = imgRGB.shape[:2]\n",
        "print(f\"Tamaño de la imagen (Alto, Ancho): ({alto}, {ancho})\")\n",
        "\n",
        "# Matriz de traslación (180 píxeles en horizontal y -40 píxeles en vertical)\n",
        "M = np.float32([\n",
        "    [1,0, 180],\n",
        "    [0,1, -40]\n",
        "])\n",
        "\n",
        "# Aplicamos la traslación afín\n",
        "img_trasladada = cv2.warpAffine(imgRGB, M, (ancho,alto))\n",
        "\n",
        "# Mostramos la imagen original y la trasladada\n",
        "plt.subplot(121), plt.title(\"Original\"), plt.axis(\"off\")\n",
        "plt.imshow(imgRGB)\n",
        "plt.subplot(122), plt.title(\"Trasladada\"), plt.axis(\"off\")\n",
        "plt.imshow(img_trasladada)\n",
        "plt.show()\n"
      ]
    },
    {
      "cell_type": "markdown",
      "source": [
        "---\n",
        "\n",
        "##**Ejemplo I.2**: Rotación\n",
        "\n",
        "![imagen.png](data:image/png;base64,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)\n",
        "\n",
        "---\n"
      ],
      "metadata": {
        "id": "b6E30lsz3Ult"
      }
    },
    {
      "cell_type": "code",
      "source": [
        "# Parámetros de la rotación\n",
        "angulo = 45\n",
        "centro = (ancho/2, alto/2)\n",
        "escala = 1.0\n",
        "\n",
        "# Calculamos la matriz de transformación conforme a los parámetros indicados\n",
        "M = cv2.getRotationMatrix2D(centro, angulo, escala)\n",
        "\n",
        "# Aplicamos la transformación afín\n",
        "img_rotada = cv2.warpAffine(imgRGB, M, (ancho,alto))\n",
        "\n",
        "# Mostramos la imagen original y la transformada\n",
        "plt.subplot(121), plt.title(\"Original\"), plt.axis(\"off\")\n",
        "plt.imshow(imgRGB)\n",
        "plt.subplot(122), plt.title(\"Rotada\"), plt.axis(\"off\")\n",
        "plt.imshow(img_rotada)\n",
        "plt.show()\n"
      ],
      "metadata": {
        "id": "7NI4fxRe34_N"
      },
      "execution_count": null,
      "outputs": []
    },
    {
      "cell_type": "markdown",
      "source": [
        "---\n",
        "\n",
        "##**Ejemplo I.3**: Rotación con escalado\n",
        "\n",
        "En OpenCV se puede hacer una rotación con escalado y seleccionando el centro de rotación para rotar desde cualquier punto que deseemos.\n",
        "\n",
        "Para definir esta matriz de transformación en OpenCV se emplea la función *cv.getRotationMatrix2D(centro, ángulo, escala)*\n",
        "\n",
        "---\n"
      ],
      "metadata": {
        "id": "Ylygf8HmAZiE"
      }
    },
    {
      "cell_type": "code",
      "source": [
        "# Parámetros de la rotación\n",
        "angulo = 90\n",
        "centro = (ancho/2,alto/2)\n",
        "escala = 0.6\n",
        "\n",
        "# Calculamos la matriz de transformación conforme a los parámetros indicados\n",
        "M = cv2.getRotationMatrix2D(centro, angulo, escala)\n",
        "\n",
        "# Aplicamos la transformación afín\n",
        "img_rotada = cv2.warpAffine(imgRGB, M, (ancho,alto))\n",
        "\n",
        "# Mostramos la imagen original y la transformada\n",
        "plt.subplot(121), plt.title(\"Original\"), plt.axis(\"off\")\n",
        "plt.imshow(imgRGB)\n",
        "plt.subplot(122), plt.title(\"Rotada y Escalada\"), plt.axis(\"off\")\n",
        "plt.imshow(img_rotada)\n",
        "plt.show()\n"
      ],
      "metadata": {
        "id": "AkvIOYArCmVQ"
      },
      "execution_count": null,
      "outputs": []
    },
    {
      "cell_type": "markdown",
      "source": [
        "---\n",
        "\n",
        "##**Ejemplo I.4**: Escalado o cambio de tamaño\n",
        "\n",
        "Para tener más control en el método a emplear para realizar el cambio de tamaño de una imagen en OpenCV se emplea la función resize que:\n",
        "\n",
        "- Esta función la podemos utilizar indicando únicamente los nuevos tamaños en ancho y en alto o indicando factores de escala tanto en x como en y, y un método de interpolación concreto\n",
        "\n",
        "Métodos de interpolación:\n",
        "\n",
        "- Interpolación lineal (**cv2.INTER_LINEAR**): utilizada para ampliar tamaños (valor por defecto)\n",
        "- Interpolación cúbica (**cv2.INTER_CUBIC**): utilizada para ampliar tamaños (más lenta que la interpolación lineal)\n",
        "- Interpolación bilineal (**cv2.INTER_AREA**): la más utilizada para reducir tamaños\n",
        "\n",
        "---\n"
      ],
      "metadata": {
        "id": "7ivVsTeCM9ot"
      }
    },
    {
      "cell_type": "code",
      "source": [
        "# Imagen original\n",
        "print(f'\\nImagen original (Alto, Ancho): ({imgBGR.shape[0]}, {imgBGR.shape[1]})\\n')\n",
        "cv2_imshow(imgBGR)\n",
        "\n",
        "# Cambiamos el tamaño a 300 píxeles de ancho por 100 píxeles de alto\n",
        "valores_fijos = cv2.resize(imgBGR, (300, 100))\n",
        "print(f'\\nImagen después de poner unos valores fijos (Alto, Ancho): ({valores_fijos.shape[0]}, {valores_fijos.shape[1]})\\n')\n",
        "cv2_imshow(valores_fijos)\n",
        "\n",
        "# Cambiamos el tamaño utlizando fx=2, fy=2 e interpolación cúbica\n",
        "resize_cubic = cv2.resize(imgBGR,(0, 0),fx=2, fy=2, interpolation = cv2.INTER_CUBIC)\n",
        "print(f'\\nImagen después de fx=2, fy=2 e interpolación cúbica (Alto, Ancho): ({resize_cubic.shape[0]}, {resize_cubic.shape[1]})\\n')\n",
        "cv2_imshow(resize_cubic)\n",
        "\n",
        "# Cambiamos el tamaño utlizando fx=0.5, fy=0.7 e interpolación bilineal\n",
        "resize_area = cv2.resize(imgBGR,(0, 0),fx=0.5, fy=0.7, interpolation = cv2.INTER_AREA)\n",
        "print(f'\\nImagen después de fx=0.5, fy=0.7 e interpolación bilineal (Alto, Ancho): ({resize_area.shape[0]}, {resize_area.shape[1]})\\n')\n",
        "cv2_imshow(resize_area)\n",
        "\n",
        "# Cambiamos el tamaño utlizando fx=2.5, fy=0.5 e interpolación lineal\n",
        "resize_linear = cv2.resize(imgBGR,(0, 0),fx=2.5, fy=0.5, interpolation = cv2.INTER_LINEAR)\n",
        "print(f'\\nImagen después de fx=2.5, fy=0.5 e interpolación lineal (Alto, Ancho): ({resize_linear.shape[0]}, {resize_linear.shape[1]})\\n')\n",
        "cv2_imshow(resize_linear)\n"
      ],
      "metadata": {
        "id": "R6Otm3UGNSDZ"
      },
      "execution_count": null,
      "outputs": []
    },
    {
      "cell_type": "markdown",
      "source": [
        "---\n",
        "\n",
        "##**Ejemplo I.5**: Transformación afín con 3 puntos\n",
        "\n",
        "Empleando la función cv2.getAffineTransform podemos crear una matriz de transformación definiendo 3 puntos en la imagen original y otro 3 puntos en la imagen resultado de la transformación:\n",
        "\n",
        "![imagen.png](data:image/png;base64,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)\n",
        "\n",
        "---\n"
      ],
      "metadata": {
        "id": "2AWrTiCuH5vM"
      }
    },
    {
      "cell_type": "code",
      "source": [
        "# Coordenadas de los 3 puntos en la imagen de origen\n",
        "pts1 = np.float32([[50,50],[200,50],[50,200]])\n",
        "# Coordenadas de los 3 puntos en la imagen de destino\n",
        "pts2 = np.float32([[10,100],[200,50],[100,250]])\n",
        "\n",
        "# Obtenemos la matriz de transformación\n",
        "M = cv2.getAffineTransform(pts1,pts2)\n",
        "\n",
        "# Aplicamos la transformación afín\n",
        "img_transformada = cv2.warpAffine(imgRGB, M, (ancho,alto))\n",
        "\n",
        "# Mostramos la imagen original y la transformada\n",
        "plt.subplot(121), plt.title(\"Original\"), plt.axis(\"off\")\n",
        "plt.imshow(imgRGB)\n",
        "plt.subplot(122), plt.title(\"Transformada\"), plt.axis(\"off\")\n",
        "plt.imshow(img_transformada)\n",
        "plt.show()"
      ],
      "metadata": {
        "id": "QO7aFvc5GVya"
      },
      "execution_count": null,
      "outputs": []
    },
    {
      "cell_type": "markdown",
      "source": [
        "---\n",
        "\n",
        "##**Ejemplo I.6**: Transformación de Perspectiva\n",
        "\n",
        "Con la función *cv2.getPerspectiveTransform* podemos construir una matriz de transformación de perspectiva si le proporcionamos las coordenadas de 4 puntos de la imagen original y las coordenadas de esos mismos 4 puntos en la imagen de destino donde queremos posicionarlos\n",
        "\n",
        "**Nota**: las coordenadas de los puntos se refencian como (ancho, alto) y el orden de los cuatro puntos del rectángulo es: arriba-izquierda, arriba-derecha, abajo-derecha, abajo-izquierda\n",
        "\n",
        "---\n"
      ],
      "metadata": {
        "id": "z7UFk3Xgwuxm"
      }
    },
    {
      "cell_type": "code",
      "source": [
        "# Construimos el path de la imagen que vamos a leer del drive\n",
        "path = \"/content/drive/MyDrive/Curso_24_25/imas/\"\n",
        "nombre_imagen = 'sudoku.jpg'\n",
        "path += nombre_imagen\n",
        "\n",
        "# Leemos la imagen\n",
        "img = cv2.imread(path, cv2.IMREAD_GRAYSCALE)\n",
        "\n",
        "alto, ancho = img.shape[:2]\n",
        "print(f\"(Ancho, Alto): ({ancho}, {alto})\")\n",
        "\n",
        "# Pintamos los 4 puntos del cuadrado principal del sudoku\n",
        "# cv2.circle(imagen, centro (ancho, alto), radio, color, grosor)\n",
        "cv2.circle(img, (70,110), 3, 255, 5)\n",
        "cv2.circle(img, (660,200), 3, 255, 5)\n",
        "cv2.circle(img, (670,780), 3, 255, 5)\n",
        "cv2.circle(img, (50,840), 3, 255, 5)\n",
        "\n",
        "# Coordenadas de los 3 puntos en la imagen de origen y destino\n",
        "# arriba-izquierda, arriba-derecha, abajo-derecha, abajo-izquierda\n",
        "pts1 = np.float32([[70,110],[660,200], [670,780],[50,840]])\n",
        "pts2 = np.float32([[20,20],[680,20],[680,853],[20,853]])\n",
        "\n",
        "# Obtenemos la matriz de transformación\n",
        "M = cv2.getPerspectiveTransform(pts1, pts2)\n",
        "\n",
        "# Aplicamos la transformación de perspectiva\n",
        "img_transformada = cv2.warpPerspective(img, M, (ancho,alto))\n",
        "\n",
        "# Mostramos la imagen original y la transformada\n",
        "plt.subplot(121), plt.title(\"Original\"), plt.axis(\"on\")\n",
        "plt.imshow(img, \"gray\")\n",
        "plt.subplot(122), plt.title(\"Transformada\"), plt.axis(\"on\")\n",
        "plt.imshow(img_transformada, \"gray\")\n",
        "plt.show()"
      ],
      "metadata": {
        "id": "FZGWaFEIKFO5"
      },
      "execution_count": null,
      "outputs": []
    },
    {
      "cell_type": "markdown",
      "source": [
        "---\n",
        "\n",
        "#**EJERCICO 1**: Transformación de perspectiva\n",
        "\n",
        "**Enunciado**:\n",
        "\n",
        "- Abrir la imagen sudoku.jpg\n",
        "- Encontrar las coordenadas del rectángulo que definen el cuadrado central del sudoku (el que tiene un 1, un 9, un 8 y un 5 en sus cuatro esquinas)\n",
        "- Realizar una transformación de perspectiva de dicho cuadrado central\n",
        "- Mostrar el resultado de dicha transformación en una imagen en la que únicamente aparezca dicho cuadrado central\n",
        "\n",
        "---\n"
      ],
      "metadata": {
        "id": "WA_zD_sLOzcX"
      }
    },
    {
      "cell_type": "code",
      "source": [],
      "metadata": {
        "id": "xm6GOMYU09B-"
      },
      "execution_count": null,
      "outputs": []
    },
    {
      "cell_type": "markdown",
      "source": [
        "---\n",
        "\n",
        "#**Bloque II**: Transformaciones de niveles mediante tablas Look-Up\n",
        "\n",
        "- Aprenderemos a realizar transformaciones de niveles empleando tablas Look-Up (Look Up Tables o LUT).\n",
        "\n"
      ],
      "metadata": {
        "id": "3smznXpxPr3s"
      }
    },
    {
      "cell_type": "markdown",
      "source": [
        "---\n",
        "\n",
        "##**Ejemplo II.1**: Transformación inversa, cuadrática y cúbica\n",
        "\n",
        "---"
      ],
      "metadata": {
        "id": "3Isgkob9RSbK"
      }
    },
    {
      "cell_type": "code",
      "source": [
        "# Construimos el path de la imagen que vamos a leer del drive\n",
        "path = \"/content/drive/MyDrive/Curso_24_25/imas/\"\n",
        "nombre_imagen = 'yelmo.png'\n",
        "path += nombre_imagen\n",
        "\n",
        "# Leemos la imagen\n",
        "img = cv2.imread(path, cv2.IMREAD_GRAYSCALE)\n",
        "\n",
        "# Construimos las 3 tablas LUT con todos sus valores a cero\n",
        "tablaInversa = np.zeros((256, 1), dtype = np.uint8)\n",
        "tablaSqrt = np.zeros((256, 1), dtype = np.uint8)\n",
        "tablaCubica = np.zeros((256, 1), dtype = np.uint8)\n",
        "\n",
        "# Rellenamos las LUT con los valores adecuados\n",
        "for i in range(0,256):\n",
        "    # Función Inversa\n",
        "    tablaInversa[i] = 255 - i\n",
        "    # Función Sqrt\n",
        "    tablaSqrt[i] = (i*255)**(1/2)\n",
        "    # Función Cúbica\n",
        "    tablaCubica[i] = (i**3)/255**2\n",
        "\n",
        "# Aplicamos las 3 LUT y obtenemos las imágenes resultado\n",
        "resInversa = cv2.LUT(img, tablaInversa)\n",
        "resSqrt = cv2.LUT(img, tablaSqrt)\n",
        "resCubica = cv2.LUT(img, tablaCubica)\n",
        "\n",
        "# Mostramos la imagen original y las 3 imágenes transformadas\n",
        "plt.subplot(221), plt.title('original'), plt.axis(\"off\")\n",
        "plt.imshow(img, 'gray')\n",
        "plt.subplot(222), plt.title('inversa'), plt.axis(\"off\")\n",
        "plt.imshow(resInversa, 'gray')\n",
        "plt.subplot(223), plt.title('sqrt'), plt.axis(\"off\")\n",
        "plt.imshow(resSqrt, 'gray')\n",
        "plt.subplot(224), plt.title('cúbica'), plt.axis(\"off\")\n",
        "plt.imshow(resCubica, 'gray')\n",
        "plt.show()"
      ],
      "metadata": {
        "id": "HmlQu3y0RU0o"
      },
      "execution_count": null,
      "outputs": []
    },
    {
      "cell_type": "markdown",
      "source": [
        "---\n",
        "\n",
        "##**Ejemplo II.2**: Transformación gamma y su inversa\n",
        "\n",
        "---\n"
      ],
      "metadata": {
        "id": "_BfOImKeYU8H"
      }
    },
    {
      "cell_type": "code",
      "source": [
        "# Valor de gamma\n",
        "gamma = 0.3\n",
        "invGamma = 1.0 / gamma\n",
        "\n",
        "# Rellenamos las LUT con los valores adecuados\n",
        "tablaGamma = np.array([((i / 255.0) ** gamma) * 255\n",
        "\tfor i in np.arange(0, 256)]).astype(\"uint8\")\n",
        "tablaInvGamma = np.array([((i / 255.0) ** invGamma) * 255\n",
        "\tfor i in np.arange(0, 256)]).astype(\"uint8\")\n",
        "\n",
        "# Mostramos los valores de las dos LUT\n",
        "print(tablaGamma)\n",
        "plt.plot(tablaGamma)\n",
        "print(\"LUT gamma\")\n",
        "plt.show()\n",
        "\n",
        "print(tablaInvGamma)\n",
        "plt.plot(tablaInvGamma)\n",
        "print(\"LUT gamma inversa\")\n",
        "plt.show()\n",
        "\n",
        "# Aplicamos las 2 LUT y obtenemos las imágenes resultado\n",
        "resGamma = cv2.LUT(img, tablaGamma)\n",
        "resInvGamma = cv2.LUT(img, tablaInvGamma)\n",
        "\n",
        "# Mostramos la imagen original y las 2 imágenes transformadas\n",
        "plt.subplot(131), plt.title('original'), plt.axis(\"off\")\n",
        "plt.imshow(img, 'gray')\n",
        "plt.subplot(132), plt.title('gamma'), plt.axis(\"off\")\n",
        "plt.imshow(resGamma, 'gray')\n",
        "plt.subplot(133), plt.title('gamma inversa'), plt.axis(\"off\")\n",
        "plt.imshow(resInvGamma, 'gray')\n",
        "plt.show()"
      ],
      "metadata": {
        "id": "0V5ItG3WxmSL"
      },
      "execution_count": null,
      "outputs": []
    },
    {
      "cell_type": "markdown",
      "source": [
        "---\n",
        "\n",
        "##**Ejemplo II.3**: Transformación gamma en una imagen en color\n",
        "\n",
        "---\n"
      ],
      "metadata": {
        "id": "NPR44zDNjKa3"
      }
    },
    {
      "cell_type": "code",
      "source": [
        "# Construimos el path de la imagen que vamos a leer del drive\n",
        "path = \"/content/drive/MyDrive/Curso_24_25/imas/\"\n",
        "nombre_imagen = 'bosque.jpeg'\n",
        "path += nombre_imagen\n",
        "\n",
        "# Leemos la imagen y la convertimos a RGB\n",
        "imgBGR = cv2.imread(path, cv2.IMREAD_COLOR)\n",
        "imgRGB = cv2.cvtColor(imgBGR, cv2.COLOR_BGR2RGB)\n",
        "\n",
        "# Parámetro gamma\n",
        "gamma = 0.7\n",
        "\n",
        "# Rellenamos las LUT con los valores adecuados\n",
        "r = np.array([((i / 255.0) ** gamma) * 255\n",
        "\tfor i in np.arange(0, 256)]).astype(\"uint8\")\n",
        "g = np.array([((i / 255.0) ** gamma) * 255\n",
        "\tfor i in np.arange(0, 256)]).astype(\"uint8\")\n",
        "b = np.array([((i / 255.0) ** gamma) * 255\n",
        "\tfor i in np.arange(0, 256)]).astype(\"uint8\")\n",
        "\n",
        "# Construye matriz con los 3 planos de color\n",
        "lut = np.dstack((r, g, b))\n",
        "\n",
        "# Aplicamos la LUT en los 3 planos\n",
        "dstImage = cv2.LUT(imgRGB, lut)\n",
        "\n",
        "# Mostramos la imagen original y el resultado de aplicar transformación gamma\n",
        "plt.subplot(121), plt.title(\"Original\"), plt.axis(\"off\")\n",
        "plt.imshow(imgRGB)\n",
        "plt.subplot(122), plt.title(\"Corrección Gamma\"), plt.axis(\"off\")\n",
        "plt.imshow(dstImage)\n",
        "plt.show()"
      ],
      "metadata": {
        "id": "biXFXRW-jeqh"
      },
      "execution_count": null,
      "outputs": []
    },
    {
      "cell_type": "markdown",
      "source": [
        "---\n",
        "\n",
        "#**EJERCICO 2**: Corrección Gamma\n",
        "\n",
        "**Enunciado**:\n",
        "\n",
        "- Realizar correcciones gamma de las siguientes imágenes: gato.jpg , soledad.jpeg y esperando.jpeg\n",
        "\n",
        "**Comentarios**:\n",
        "\n",
        "Considerar el método más adecuado en función del tipo de imagen (gamma o gamma inversa) y lso valores más adecuados para el parámetro gamma.\n",
        "\n",
        "---\n"
      ],
      "metadata": {
        "id": "ayiF4016AozQ"
      }
    },
    {
      "cell_type": "code",
      "source": [],
      "metadata": {
        "id": "yMlDyLa-r-Ki"
      },
      "execution_count": null,
      "outputs": []
    }
  ]
}