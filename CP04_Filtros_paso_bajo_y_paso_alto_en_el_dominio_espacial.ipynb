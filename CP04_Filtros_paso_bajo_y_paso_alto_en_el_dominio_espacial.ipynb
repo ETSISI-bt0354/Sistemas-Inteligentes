{
  "nbformat": 4,
  "nbformat_minor": 0,
  "metadata": {
    "colab": {
      "provenance": [],
      "toc_visible": true
    },
    "kernelspec": {
      "name": "python3",
      "display_name": "Python 3"
    },
    "language_info": {
      "name": "python"
    }
  },
  "cells": [
    {
      "cell_type": "code",
      "source": [
        "import cv2\n",
        "import numpy as np\n",
        "import matplotlib.pyplot as plt\n",
        "from google.colab import drive\n",
        "\n",
        "# Montamos nuestro disco de Google Drive\n",
        "drive.mount(\"/content/drive\", force_remount=True)"
      ],
      "metadata": {
        "id": "m8k2pslG1Pbo"
      },
      "execution_count": null,
      "outputs": []
    },
    {
      "cell_type": "markdown",
      "source": [
        "---\n",
        "\n",
        "#**Bloque I**: Filtros Paso Bajo\n",
        "\n",
        "- Aprenderemos a realizar filtros paso bajo en el dominio del espacio (Filtrado Espacial. Filtros Paso Bajo)\n"
      ],
      "metadata": {
        "id": "urCTJgsCv2rQ"
      }
    },
    {
      "cell_type": "markdown",
      "source": [
        "---\n",
        "\n",
        "##**Ejemplo I.1**: Convolución\n",
        "\n",
        "- leemos la imagen numeros.png\n",
        "- creamos distintas máscaras de convolución\n",
        "- utilizamos la función *cv2.filter2D* para realizar la convolución de la imagen numeros.png con cada una de las máscaras de convolución creadas anteriormente\n",
        "\n",
        "La función *cv2.filter2D* tiene 3 parámetros de entrada:\n",
        "\n",
        "    Src – La imagen de entrada sobre la que se aplica el filtro de convolución\n",
        "    Ddepth – Profundidad de la imagen de salida (-1 dará a la imagen de salida la misma profundidad que la imagen de entrada)\n",
        "    Kernel – La matriz 2D con la que queremos convolucionar la imagen de entrada\n",
        "\n",
        "**Nota**: la profundidad de una images es el número de bits necesarios para codificar y guardar la información (el valor) de cada píxel en una imagen\n",
        "\n",
        "---\n"
      ],
      "metadata": {
        "id": "b6E30lsz3Ult"
      }
    },
    {
      "cell_type": "code",
      "source": [
        "# Construimos el path de la imagen que vamos a leer del drive\n",
        "path = \"/content/drive/MyDrive/Curso_24_25/imas/\"\n",
        "nombre_imagen = 'numeros.png'\n",
        "path += nombre_imagen\n",
        "\n",
        "# Leemos la imagen\n",
        "img = cv2.imread(path, cv2.IMREAD_GRAYSCALE)\n",
        "\n",
        "# Creamos las 3 máscaras de convolución de este ejemplo\n",
        "# Máscara de la media\n",
        "media = np.ones((5,5), np.float32)/25\n",
        "\n",
        "# Máscara gaussiana\n",
        "gaussiana = np.array(([1, 4, 7, 4, 1], [4, 16, 26, 16, 4], [7, 26, 41, 26, 7],\n",
        "\t[4, 16, 26, 16, 4], [1, 4, 7, 4, 1]), np.float32)\n",
        "gaussiana = gaussiana / np.sum(gaussiana)\n",
        "\n",
        "# Máscara de relieve\n",
        "relieve = np.array([\n",
        "  [-2, -1, 0],\n",
        "  [-1, 1, 1],\n",
        "  [0, 1, 2]\n",
        "])\n",
        "\n",
        "# Aplicamos las distintas convoluciones\n",
        "res1 = cv2.filter2D(img, -1, media)\n",
        "res2 = cv2.filter2D(img, -1, gaussiana)\n",
        "res3 = cv2.filter2D(img, -1, relieve)\n",
        "\n",
        "# Mostramos la imagen original y os resultados de aplicar las distintas máscaras\n",
        "plt.subplot(221), plt.title('Original'), plt.axis(\"off\")\n",
        "plt.imshow(img, \"gray\")\n",
        "plt.subplot(222), plt.title('Media 5x5'), plt.axis(\"off\")\n",
        "plt.imshow(res1, \"gray\")\n",
        "plt.subplot(223), plt.title('Gaussiana 5x5'), plt.axis(\"off\")\n",
        "plt.imshow(res2, \"gray\")\n",
        "plt.subplot(224), plt.title('Relieve 3x3'), plt.axis(\"off\")\n",
        "plt.imshow(res3, \"gray\")\n",
        "plt.show()"
      ],
      "metadata": {
        "id": "zyyG8AYs3ksg"
      },
      "execution_count": null,
      "outputs": []
    },
    {
      "cell_type": "markdown",
      "source": [
        "---\n",
        "\n",
        "##**Ejemplo I.2**: Suavizado o Difuminado (*Blurring*)\n",
        "\n",
        "- Suavizado Gaussiano\n",
        "\n",
        "La función *cv.GaussianBlur* requiere una imagen de entrada sobre la que realizar el suavizado, el tamaño de la máscara gaussiana a emplear (en este caso 7x) y también se deberían especificar la desviación estándar en las direcciones X e Y. Si sólos se especifica sigmaX, sigmaY toma el mismo valor que sigma X, y si pone un cero ambos valores se calculan a partir del tamaño de la máscara indicada.Este método es efectivo para eliminar el ruido gaussiano de una imagen.\n",
        "\n",
        "- Suavizado con la Mediana\n",
        "\n",
        "Este método es efectivo para eliminar el ruido tipo \"sal y pimienta\" (*salt and pepper*) de una imagen.\n",
        "\n",
        "- Suavizado Bilateral\n",
        "\n",
        "Este método es muy eficaz para eliminar el ruido y al mismo tiempo mantener los bordes perfilados pero el funcionamiento es más lento en comparación con otros filtros. El filtrado gaussian no considera si los píxeles tienen casi la misma intensidad. Tampoco considera si un píxel es un píxel de borde o no. Entonces también difumina los bordes, lo cual no queremos hacer.\n",
        "\n",
        "Este filtrado bilateral garantiza que sólo se consideren para el desenfoque aquellos píxeles con intensidades similares a las del píxel central. Por lo tanto, preserva los bordes ya que los píxeles en los bordes tendrán una gran variación de intensidad. Además de la imagen, tiene los siguientes parámetros\n",
        "\n",
        "    d: Diámetro de cada vecindad de píxeles\n",
        "    sigmaColor: Valor de sigma en el espacio de color. Cuanto mayor sea el valor, los colores más alejados entre sí comenzarán a mezclarse\n",
        "    sigmaSpace: Valor de sigma en el espacio de coordenadas. Cuanto mayor sea su valor, más píxeles se mezclarán, dado que sus colores se encuentran dentro del rango sigmaColor\n",
        "\n",
        "---\n"
      ],
      "metadata": {
        "id": "Ylygf8HmAZiE"
      }
    },
    {
      "cell_type": "code",
      "source": [
        "# Suavizado Gaussiano\n",
        "gausiano = cv2.GaussianBlur(img, (7, 7), 0)\n",
        "\n",
        "# Suavizado con la Mediana\n",
        "mediana = cv2.medianBlur(img, 5)\n",
        "\n",
        "# Suavizado Bilateral\n",
        "bilateral = cv2.bilateralFilter(img, 9, 75, 75)\n",
        "\n",
        "# Mostramos la imagen original y os resultados de aplicar los distintos suavizados\n",
        "plt.subplot(221), plt.title('Original'), plt.axis(\"off\")\n",
        "plt.imshow(img, \"gray\")\n",
        "plt.subplot(222), plt.title('Suavizado gaussiano'), plt.axis(\"off\")\n",
        "plt.imshow(gausiano, \"gray\")\n",
        "plt.subplot(223), plt.title('Suavizado mediana'), plt.axis(\"off\")\n",
        "plt.imshow(mediana, \"gray\")\n",
        "plt.subplot(224), plt.title('Suavizado bilateral'), plt.axis(\"off\")\n",
        "plt.imshow(bilateral, \"gray\")\n",
        "plt.show()"
      ],
      "metadata": {
        "id": "JDMANc9U5-05"
      },
      "execution_count": null,
      "outputs": []
    },
    {
      "cell_type": "markdown",
      "source": [
        "---\n",
        "\n",
        "##**Ejemplo I.3**: Aumentar contraste o nitided (Sharp)\n",
        "\n",
        "---\n"
      ],
      "metadata": {
        "id": "2AWrTiCuH5vM"
      }
    },
    {
      "cell_type": "code",
      "source": [
        "# Construimos el path de la imagen que vamos a leer del drive\n",
        "path = \"/content/drive/MyDrive/Curso_24_25/imas/\"\n",
        "nombre_imagen = 'rueda.bmp'\n",
        "path += nombre_imagen\n",
        "\n",
        "# Leemos la imagen\n",
        "img = cv2.imread(path, cv2.IMREAD_GRAYSCALE)\n",
        "\n",
        "# Definimos distintas máscaras de convolución para aumentar contraste\n",
        "m1 = np.array([\n",
        "  [ 0, -1,  0],\n",
        "  [-1,  5, -1],\n",
        "  [ 0, -1,  0]\n",
        "])\n",
        "\n",
        "res1 = cv2.filter2D(img, -1, m1)\n",
        "\n",
        "m2 = np.array([[-1,-1,-1], [-1,9,-1], [-1,-1,-1]])\n",
        "res2 = cv2.filter2D(img, -1, m2)\n",
        "\n",
        "m3 = np.array([[-1, -1, -1],[-1, 8, -1],[-1, -1, 1]], np.float32)\n",
        "m3 = 1/3 * m3\n",
        "res3 = cv2.filter2D(img, -1, m3)\n",
        "\n",
        "# Mostramos la imagen original y los resultados de aplicar las distintas convoluciones\n",
        "plt.subplot(221), plt.title('original'), plt.axis(\"off\")\n",
        "plt.imshow(img, \"gray\")\n",
        "plt.subplot(222), plt.title('m1'), plt.axis(\"off\")\n",
        "plt.imshow(res1, \"gray\")\n",
        "plt.subplot(223), plt.title('m2'), plt.axis(\"off\")\n",
        "plt.imshow(res2, \"gray\")\n",
        "plt.subplot(224), plt.title('m3'), plt.axis(\"off\")\n",
        "plt.imshow(res3, \"gray\")\n",
        "plt.show()"
      ],
      "metadata": {
        "id": "akVAF6ZdV-iD"
      },
      "execution_count": null,
      "outputs": []
    },
    {
      "cell_type": "markdown",
      "source": [
        "---\n",
        "\n",
        "##**Ejemplo I.4**: Perfilar bordes\n",
        "\n",
        "En relación con el ejercicio anterior, los bordes de una imagen digital se pueden perfilar mediante un enfoque simple conocido como enmascaramiento de enfoque, donde una versión desenfocada o suavizada de una imagen se resta de la imagen original.\n",
        "\n",
        "En el siguiente ejemplo, primero se aplica un filtro de suavizado gaussiano y la imagen resultante se resta de la imagen original.\n",
        "\n",
        "---\n"
      ],
      "metadata": {
        "id": "z7UFk3Xgwuxm"
      }
    },
    {
      "cell_type": "code",
      "source": [
        "# Construimos el path de la imagen que vamos a leer del drive\n",
        "path = \"/content/drive/MyDrive/Curso_24_25/imas/\"\n",
        "nombre_imagen = 'sudoku.jpg'\n",
        "path += nombre_imagen\n",
        "\n",
        "# Leemos la imagen\n",
        "img = cv2.imread(path, cv2.IMREAD_GRAYSCALE)\n",
        "\n",
        "# Aplicamos los filtros para perfilar la imagen\n",
        "suavizada = cv2.GaussianBlur(img, (9, 9), 10)\n",
        "perfilada = cv2.addWeighted(img, 2.0, suavizada, -1.0, 0)\n",
        "\n",
        "# Mostramos la imagen original y la perfilada\n",
        "plt.subplot(121), plt.title('original'), plt.axis(\"off\")\n",
        "plt.imshow(img, \"gray\")\n",
        "plt.subplot(122), plt.title('perfilada'), plt.axis(\"off\")\n",
        "plt.imshow(perfilada, \"gray\")\n",
        "plt.show()"
      ],
      "metadata": {
        "id": "98qGi0_qRi4p"
      },
      "execution_count": null,
      "outputs": []
    },
    {
      "cell_type": "markdown",
      "source": [
        "---\n",
        "\n",
        "#**EJERCICIO 1**: Implementar el filtro de la mediana\n",
        "\n",
        "**Enunciado**:\n",
        "\n",
        "- Abrir la imagen numeros.png\n",
        "- Implementar el filtro de la mediana (sin utilizar ninguna función de OpenCV)\n",
        "- Utilizar cv2.medianBlur para obtener el resultado del filtro de la mediana con OpenCV\n",
        "- Comprobar que ambos procesos dan el mismo resultado (restando ambas imágenes entre sí y comprobando que el resto es cero para todos sus píxeles)\n",
        "\n",
        "---\n"
      ],
      "metadata": {
        "id": "WA_zD_sLOzcX"
      }
    },
    {
      "cell_type": "code",
      "source": [],
      "metadata": {
        "id": "xm6GOMYU09B-"
      },
      "execution_count": null,
      "outputs": []
    },
    {
      "cell_type": "markdown",
      "source": [
        "---\n",
        "\n",
        "#**EJERCICIO 2**: Implementar el filtro de la mediana con umbral\n",
        "\n",
        "**Enunciado**:\n",
        "\n",
        "- Abrir la imagen numeros.png\n",
        "- Implementar el filtro de la mediana con umbral (sin utilizar ninguna función de OpenCV)\n",
        "- Probar con distintos valores de umbral\n",
        "- Comparar los resultados del filtro de la mediana con los del filtro con la mediana con umbral\n",
        "\n",
        "---\n"
      ],
      "metadata": {
        "id": "ayiF4016AozQ"
      }
    },
    {
      "cell_type": "code",
      "source": [],
      "metadata": {
        "id": "oRNDFBRXg3Te"
      },
      "execution_count": null,
      "outputs": []
    },
    {
      "cell_type": "markdown",
      "source": [
        "---\n",
        "\n",
        "#**Bloque II**: Filtros Paso Alto\n",
        "\n",
        "- Aprenderemos a realizar filtros paso alto en el dominio del espacio (Filtrado Espacial. Filtros Paso Alto)\n",
        "\n"
      ],
      "metadata": {
        "id": "3smznXpxPr3s"
      }
    },
    {
      "cell_type": "markdown",
      "source": [
        "---\n",
        "\n",
        "##**Ejemplo II.1**: Gradiente de Sobel\n",
        "\n",
        "Gradiente en X:\n",
        "\n",
        "![imagen.png](data:image/png;base64,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)\n",
        "\n",
        "Gradiente en Y:\n",
        "\n",
        "![imagen.png](data:image/png;base64,iVBORw0KGgoAAAANSUhEUgAAAS4AAAB+CAYAAACaufwAAAAKp2lDQ1BJQ0MgUHJvZmlsZQAASImVlwdQU+kWx79700MCpBCKlNCb9BZASughIEgHGyEJEEqIgQBiVxZXcC2IiGBZ0VURBdcCyFoQUSwsAva6QRYRdV0s2FB5NzCE3X3z3pt3Zr6c35yc75zz3bnfzP8CQEbzJJIsWB2AbHGeNCrYj5mQmMTEDQEcUAMUYAAoPH6uhB0ZGQYQm/J/t/e3AaTwN2wUtf79//9qFIEwlw8AFIlwiiCXn43wCWTJ+RJpHgCoCiRuXJAnUXALwnQpMiDCXQpOm2S5glMm+d1ETkyUPwBoPAB4Eo8nTQOAREfizHx+GlKH5IywvVggEiMsQNg7OzsH8aR9CFsgORKEFfVZKX+pk/a3minKmjxempInzzJh+ABRriSLt/j/fBz/27KzZFM9zJBFSpeGRCn6Ic/sbmYOV8nilNkRUywSTM6k4HRZSOwU83P9k6ZYwAvgKvdmzQ6b4lRREEdZJ48TM8XC3MDoKZbmRCl7pUr92VPMk073lWXGKuPpQo6yflF6TPwU54viZk9xbmY0dzrHXxmXyqKU8wvFwX7TfYOUZ8/O/ct5RRzl3rz0mBDl2XnT8wvF7OmauQnK2QTCgMDpnFhlviTPT9lLkhWpzBdmBSvjufnRyr15yAs5vTdS+QwzeKGRUwxEIBzwAD9PWJinGN4/R7JYKkpLz2OykVslZHLEfNuZTEd7RycAFHd08hV4y5i4exDj6nRsrS4APvHj4+Ot07EQLwCOeQBAXD4dM18GgGoOAJdH+TJp/mQMrfjBACJy++lAG+gDY2ABbIAjcAWewBcEglAQAWJAIlgA+CAdZAMpKABLwSpQAsrAJrAVVIPdYC84CI6AY6AZnAbnwSVwDfSAW+ABkINB8AKMgPdgDIIgHESGaJA2ZACZQtaQI8SCvKFAKAyKghKhZCgNEkMyaCm0BiqDyqFqaA9UB/0MnYLOQ1egXuge1A8NQ2+gzzAKJsF0WA82g+1gFsyGuXAMPB9OgxfBRXAxvAGugmvhw3ATfB6+Bt+C5fALeBQFUCooBsoQZYNiofxREagkVCpKilqOKkVVompRDahWVCfqBkqOeon6hMaiaWgm2gbtiQ5Bx6L56EXo5ej16Gr0QXQTugN9A92PHkF/w5AxuhhrjAeGg0nApGEKMCWYSsx+zEnMRcwtzCDmPRaLZWDNsW7YEGwiNgO7BLseuxPbiG3D9mIHsKM4HE4bZ43zwkXgeLg8XAluO+4w7hyuDzeI+4hXwRvgHfFB+CS8GL8aX4k/hD+L78MP4ccI6gRTggchgiAgLCZsJOwjtBKuEwYJY0QK0ZzoRYwhZhBXEauIDcSLxIfEtyoqKkYq7ipzVEQqK1WqVI6qXFbpV/lEopKsSP6keSQZaQPpAKmNdI/0lkwmm5F9yUnkPPIGch35Avkx+aMqTdVWlaMqUF2hWqPapNqn+kqNoGaqxlZboFakVql2XO262kt1grqZur86T325eo36KfU76qMUGsWBEkHJpqynHKJcoTyj4qhm1ECqgFpM3Uu9QB2goWjGNH8an7aGto92kTZIx9LN6Rx6Br2MfoTeTR/RoGo4a8RpFGrUaJzRkDNQDDMGh5HF2Mg4xrjN+Kypp8nWFGqu02zQ7NP8oDVDy1dLqFWq1ah1S+uzNlM7UDtTe7N2s/YjHbSOlc4cnQKdXToXdV7OoM/wnMGfUTrj2Iz7urCulW6U7hLdvbpduqN6+nrBehK97XoX9F7qM/R99TP0K/TP6g8b0Ay8DUQGFQbnDJ4zNZhsZhazitnBHDHUNQwxlBnuMew2HDMyN4o1Wm3UaPTImGjMMk41rjBuNx4xMTAJN1lqUm9y35RgyjJNN91m2mn6wczcLN5srVmz2TNzLXOOeZF5vflDC7KFj8Uii1qLm5ZYS5ZlpuVOyx4r2MrFKt2qxuq6NWztai2y3mndOxMz032meGbtzDs2JBu2Tb5NvU2/LcM2zHa1bbPtKzsTuyS7zXaddt/sXeyz7PfZP3CgOoQ6rHZodXjjaOXId6xxvOlEdgpyWuHU4vTa2dpZ6LzL+a4LzSXcZa1Lu8tXVzdXqWuD67CbiVuy2w63Oyw6K5K1nnXZHePu577C/bT7Jw9XjzyPYx5/etp4Znoe8nw2y3yWcNa+WQNeRl48rz1ecm+md7L3j95yH0Mfnk+tzxNfY1+B737fIbYlO4N9mP3Kz95P6nfS74O/h/8y/7YAVEBwQGlAdyA1MDawOvBxkFFQWlB90EiwS/CS4LYQTAg3ZHPIHY4eh8+p44yEuoUuC+3gkrjR3GrukzCrMGlYazgcHhq+JfzhbNPZ4tnNESCCE7El4lGkeeSiyF/mYOdEzqmZ8zTKIWppVGc0LXph9KHo9zF+MRtjHsRaxMpi2+PU4ubF1cV9iA+IL4+XJ9glLEu4lqiTKEpsScIlxSXtTxqdGzh369zBeS7zSubdnm8+v3D+lQU6C7IWnFmotpC38HgyJjk++VDyF14Er5Y3msJJ2ZEywvfnb+O/EPgKKgTDQi9huXAo1Su1PPVZmlfalrThdJ/0yvSXIn9Rteh1RkjG7owPmRGZBzLHs+KzGrPx2cnZp8RUcaa4I0c/pzCnV2ItKZHIF3ks2rpoRMqV7s+FcufntuTRETHUJbOQfSfrz/fOr8n/WBBXcLyQUigu7FpstXjd4qGioKKflqCX8Je0LzVcumpp/zL2sj3LoeUpy9tXGK8oXjG4MnjlwVXEVZmrfl1tv7p89bs18Wtai/WKVxYPfBf8XX2Jaom05M5az7W7v0d/L/q+e53Tuu3rvpUKSq+W2ZdVln1Zz19/9QeHH6p+GN+QuqF7o+vGXZuwm8Sbbm/22XywnFJeVD6wJXxLUwWzorTi3daFW69UOlfu3kbcJtsmrwqratlusn3T9i/V6dW3avxqGnfo7li348NOwc6+Xb67Gnbr7S7b/flH0Y939wTvaao1q63ci92bv/fpvrh9nT+xfqrbr7O/bP/XA+ID8oNRBzvq3OrqDuke2lgP18vqhw/PO9xzJOBIS4NNw55GRmPZUXBUdvT5z8k/3z7GPdZ+nHW84YTpiR0naSdLm6CmxU0jzenN8pbElt5ToafaWz1bT/5i+8uB04ana85onNl4lni2+Oz4uaJzo22Stpfn084PtC9sf3Ah4cLNjjkd3Re5Fy9fCrp0oZPdee6y1+XTVzyunLrKutp8zfVaU5dL18lfXX492e3a3XTd7XpLj3tPa++s3rN9Pn3nbwTcuHSTc/Pardm3em/H3r57Z94d+V3B3Wf3su69vp9/f+zByoeYh6WP1B9VPtZ9XPub5W+Nclf5mf6A/q4n0U8eDPAHXvye+/uXweKn5KeVQwZDdc8cn50eDhrueT73+eALyYuxlyV/UP7Y8cri1Yk/ff/sGkkYGXwtfT3+Zv1b7bcH3jm/ax+NHH38Pvv92IfSj9ofD35ifer8HP95aKzgC+5L1VfLr63fuN8ejmePj0t4Ut6EFEAhC05NBeDNAQDIiQDQehD9MHdSQ08YNKn7Jwj8J57U2RPmCkAD4hRSiN0GwHGFhPVFaq8EQCGDYnwB7OSkXFN6d0KbKwyLfKU0OHkKuQH3qLoS8A+b1O1/mfufHiiqKqT/3/2/AIq6Are4PjJcAAAAXGVYSWZNTQAqAAAACAAEAQYAAwAAAAEAAgAAARIAAwAAAAEAAQAAASgAAwAAAAEAAgAAh2kABAAAAAEAAAA+AAAAAAACoAIABAAAAAEAAAEuoAMABAAAAAEAAAB+AAAAAFe98ocAAAK2aVRYdFhNTDpjb20uYWRvYmUueG1wAAAAAAA8eDp4bXBtZXRhIHhtbG5zOng9ImFkb2JlOm5zOm1ldGEvIiB4OnhtcHRrPSJYTVAgQ29yZSA2LjAuMCI+CiAgIDxyZGY6UkRGIHhtbG5zOnJkZj0iaHR0cDovL3d3dy53My5vcmcvMTk5OS8wMi8yMi1yZGYtc3ludGF4LW5zIyI+CiAgICAgIDxyZGY6RGVzY3JpcHRpb24gcmRmOmFib3V0PSIiCiAgICAgICAgICAgIHhtbG5zOnRpZmY9Imh0dHA6Ly9ucy5hZG9iZS5jb20vdGlmZi8xLjAvIgogICAgICAgICAgICB4bWxuczpleGlmPSJodHRwOi8vbnMuYWRvYmUuY29tL2V4aWYvMS4wLyI+CiAgICAgICAgIDx0aWZmOlBob3RvbWV0cmljSW50ZXJwcmV0YXRpb24+MjwvdGlmZjpQaG90b21ldHJpY0ludGVycHJldGF0aW9uPgogICAgICAgICA8dGlmZjpSZXNvbHV0aW9uVW5pdD4yPC90aWZmOlJlc29sdXRpb25Vbml0PgogICAgICAgICA8dGlmZjpDb21wcmVzc2lvbj4xPC90aWZmOkNvbXByZXNzaW9uPgogICAgICAgICA8dGlmZjpPcmllbnRhdGlvbj4xPC90aWZmOk9yaWVudGF0aW9uPgogICAgICAgICA8ZXhpZjpQaXhlbFlEaW1lbnNpb24+MTI2PC9leGlmOlBpeGVsWURpbWVuc2lvbj4KICAgICAgICAgPGV4aWY6UGl4ZWxYRGltZW5zaW9uPjMwMjwvZXhpZjpQaXhlbFhEaW1lbnNpb24+CiAgICAgIDwvcmRmOkRlc2NyaXB0aW9uPgogICA8L3JkZjpSREY+CjwveDp4bXBtZXRhPgodAZ4JAAAls0lEQVR4Ae2dCfiVRfXHx0ozNxIQc0FBMgLKJVxBQlJBcTeeUjRFMdFstR6SLLVSe8xUyjTNEkTJDNxyy0dNcsskF5RF3FCQQFKjRWyx7n8+p77vf7i877339/vd5X0vc57n3pl35sy855yZOXNmeWfWKXlwEaIEogSiBAokgXcUiNZIapRAlECUgEkgKq5YEaIEogQKJ4GouApXZJHgKIEogai4Yh2IEogSKJwEouIqXJFFgqMEogTeFUWQLoFaFlvXWWed9MQxNEogBxKopQ5DZhHr8TpxO0QOalgkIUogSqBDEohDxQ6JKyJHCUQJ5EECcagYlMJ//vMf9453vMM9/fTT7sorr3Tve9/73Jtvvun+/ve/B1jOrbfeem7ZsmXukEMOcUcccYTFYZYX0eRejbH4UHgJqA4/8cQT7tJLL3Xdu3d3hKl+4n/3u9/tNtpoI/fGG2+4j33sY+7AAw9M4osigKi4gpLSnMAf//hHd8kllyQxY8eOdf/6178SxbT++uu7+fPnu3333TfBabZHtK4NylK8lst4beBdPEsGtfJMh0sd7du3r/v3v/9tiok86HQXLFjgHn/8cct6yy23NMWl9xTFjYorpaTokQQzZsxwY8aMscIvrzThc+hX2ka49Ji8S++jMsrfiPe1Ok9ZEGl0VIpLwy9iGDwCjARqAeHttdde7sEHH1wtCXm9613vMqU1ePBgi+vWrdtqOEV5iIorpaRUWcKod77zneFj0/30migoVczFixebFdivX7/Cmfm1Cg+lDL8M1f/whz+45cuXmww233xzt/XWW5v10K6KG76oh6p3q1atcs8++6wbNGiQW3fddWsSoeqKkNXBheFvv/22ogvl1qbGC8VSfYmlAgFUIvzhr75vys6Nd1KBqXArVqxw119/vdt2223dPffcY4lEY3YOxYuBJxoaw5rx48c7FPTQoUPdkCFDzH/KKadYQwan3fgX75T5P//5T7Ocjj76aLfzzjs7KZpaeAYn/KlDllu8WvH/FEeL6/9lkepTL4UrfypigwJViZcuXepuvfVWR4MVbLzxxuZtBV2ioREuDQslvWjRIjdw4EB7BfOMWF433nijPV911VWOHzh9+vSxjiW0JBpBVzPyVHljYT3wwAPu8ssvdzfffLO9evTo0R0iobxe6FluhzLLGXK0uHJWICE5qsSELVy40A0YMMA99dRTbrfddjO0dug5Q37lRwExNJ40aZKjsTIsZpX36quvds8//7w7+eST3RZbbGHo06dPN5c0yKvoIB6wrFeuXOkuvvhid/bZZxtb7aBw6lU+0eKqlyQbkE9YUVm2BrA63vve95o/jLeANviTtcWKGENiVnh79uyZcMYy/jnnnGMTzGxJueWWW8wKZdm/HUBWI1YkP4BpAYCJ9Qj/lUC0uApSE2Rd/eMf/0gm6AtCeqfIvOuuu9y1115rSot5HVkiWGI9evRwEyZMsHyfmjNnjX12nXphzhLBr8q8I/NaOWOjYeREFd4w0dY3Y1lXuGrE9X1DPnKTxcHG3l69ehlRTFKH/BO41VZbWdzwvfd27KtrN4Dfcp713G68doafqLg6I7UWp1kbKvB2221nUkZJp/GL5QmwyqihswW00V8W723EYqdZiUPFTouuesI0y6haWFp89TflCwMe9IOykCf55So+fA7DypWWLLLZs2eD5vbZZx8bOjOsKsc1hCb/ZfFRTobw5JbHx+fKEogWV2X5dCk2rSFVC0uL7xIRLUhczkP4LL9cyAv9IjctjPktho1sDWGCntXF3Xff3ZKk4SuvZrrldJQ/ixaFy1V4dGuTQLS4apNTxGqxBLBMUFqAtkCcfvrptotcXxW0mMT4+iZKIFpcdRY2DYxe9KGHHnIXXHCB6+OXtNn9XAuw3M3y/6hRo9y4ceMsifKrJX0rcbSNgc9SzjjjDNtnhUKpZSiEQuKj4N69e7uJEye6DTfccI0NpeQP3qOPPuq++tWvukceecS2CSi8VbyL79dee82sQDaO8q0rvFcD+KFu8AkPe7XY9qH8qqVd2+Oj4mpQDfjrX/9qe4w6k7327XQmbavTvPXWW27mzJmdIgO+TzvttDXSaoj48ssv29CQvVsMEVGKmvNqtYKHxu9///tr0F5rANYjUIuirzXPdsaLiqvOpas5i2HDhrklS5YkDavW19Djhsv7yq/W9K3CkwLp37+/e+WVV1LnrSrRRoPFAmGDKSC+ZVFxdhTW69SpU+0ctPK8hF8e3uhn8Y21xIfg0NsRWqRwN9tsMyNV+TWa7qLnHxVXg0qQ4Q6/RkBee2XoQulqj1VXeKfxy9LCemXT6eTJk91xxx1nVokUhJQEQy7OmmoVoHT1GVJXaBA/YR4qb7lh3Nrqj4qrQSVPJVPjqrXCUWnBxc3qeZUnZOMHlMYeWvgn+kVXraQoXci3lBZDzxNOOMH98Ic/dKeeeqplCR6KQsCnQZxWO3z48ETZKa6ZLnyrLGopc/ENjZQ3z9Wgo7Ktll9R46PialDJlTeurr5GDQKrgtNYAR14WEsj6er7a01fD75pnCgm+PzKV75ix9ecf/759rE1YTRyeGYxgyOKjzzySPfqq68aiVkKv1b6u4JX73erzJUvZd9Kq7Irsql32qi46i3RBuRHBVblnTdvnrv33nvtLfjVyBvw2pZkKV4Z+n3rW99yl112mdtxxx3tDK4sgpgU5/MgNfQsvKKFU+Z//vOf3axZs4z0O+64w+bRWMSoxTorGr8doTcqro5IqwW4aoxz585zN910Y7KHicpLw+a0CE7FPOigg+xiBOG3gNS6vnLatGnu3HPPdRwx/NhjjxlvnD/GEBKgUW+yySZu7ty5buTIkRbWDrzTEUlh3XDDDY6PzX/xi1+47bff3j333HNmgXIs84gRI9wOO+zQdsraCrKGv6i4ahBSK1HUs/bps6078cQT3ec+9znrbdVIsUxozO1yqKD45Zz/T3ziE9Ywq8lfvMsqrYaf53jxv8EGG9hZZIceeqidRYZCIw6Xzqp89TXPPDWCtqi4GiHVBuRJRVVlbUD2ucuyXT+criZoKS42pbLgECFdAlFxpcslCcWyyQtUokUVPi+0dpWOSryW591uvIu/SjLoCs+V8tW78+5GxVWlhPI0/OhKZa3CZu6i1yZes4TfKBk0Kt8sPhoRHj+yTpFq2CPxDV2EKIF2koDOMoOnsK4XiceouIpUWpHWKIEoAZNAVFwpFSE0pRv12U7Ka2NQlEBTJKCNy7wsrOtNeXmdXhIVVxVBsvwcIUqgnSRQ1OFhWAZRcYXSSPEXtUdKYSUGRQmYBNqhTkfFFStzlECUQOEkEBVX4YosEhwlECUQFVesA1ECUQKFk0BUXIUrskhwlECUQFRcsQ5ECUQJFE4CUXEVrsgiwVECUQJRccU6ECUQJVA4CUTFVbgiiwRHCUQJdOp0CHbehjvKOUEh3NSmQ8/CsCjqKIEogSiBNAloJz/6An/opuETVrPiIkN+UlLhLSvKHIUFjuJEhOKjW10CyAxY25R+5Lv6DT/Va08xMcK6Lr/cLI6qKi4qFD8pLDLick6uitf14dwn161bN8MhnjhuYNl00015jFBFAmkyJkm7W67im0oaVtR25zurbJEHEMrCAtr4D545Zgdjp5xvjiQPPwgPxVBRcZGpKtXf/vY39+ijj7prrrnGbhMmkwEDBti1UCiyU045xW4Y5vqkY4891t15552muKiEeTqML2Q+D/5QxtDDPYLInItVkRvxwskDvfWiAZ4A1Q06wbfffttx1rrC2pFveA7bBDxy5hvHcqvhhvHgtyOIx1WrVrmf/vSn7p577nHvec97TIEhk+XLl7tx48a5Y445JgmTfJBHpuIKK80jjzxiN8qgjLjA4KGHHrLrongRWpGrx3/wgx+4Aw44wGTcr18/17t3b/OHL7OA+JdIIJTx73//e/fLX/7SrVixwnFz84c+9CH38Y9/3H3gAx9I8NvFE/K9cOFCd8stt7hFixZZA+YWbPjeZZddrCGHuO3AP/ygmF977TV3++23mzFAZ4XFcdhhh7l99tnHOi017HbgOY0HdU4cG/X5z3/e7bnnnm633XZLUNExhEl/yE0QvCDXAC+0JMxbWHSN9rv22mtLvldM4kKPV2ClCy64wPC++c1vlpSH3BA3r37xdv/99yc8z5gxw8itNx/Kj3f6uwPtfWeeeWbplVdeKfnGXDr44IMtzPdEDXl/HsrgtttuMx6POuqo0rPPPltavHhxadKkSRZ21VVXJSRKVklAQT20EWDBggXGI+3KN9CS76xKP/vZzyzMj1xKK1euNDzh20Md/pTf448/nrz/Rz/6keXcGRl3Jk05G6JpyZIlCU1nnHFGgpb1DoYhq0GIOGXKlCSzK6+8MsGjsfHjpfy8mW9xS5cuNfybbrrJnsO8ksQ59rRCcaEYqcD+xubVJEPl9VaHxc2ZM8fiVMirIRbsQTx4K954Gz58eMlfeppwQZ354he/aHHeImk7vv2N26Wtt97a+HvqqacSvvFcf/31Ft6ojl+yr5fiEvFdaeeiyY82jHfaAh0aoPao94TuGopLGf36179OMho7dmzJj0UtXaXMiBs1alTpd7/7XVXckIi8+MVboy0uvSfsZSQzOgF/zbyJxF8EamUwfvz4kr9Lz8JUPnmRWUfoEO1+Tqd0+OGHG28zZ860LJCJn6Q1P7KgAvtLUEs0dEBp7aGAf2rcl156qfE2ceLEpGGKb7+olXRWv/3tb43LevKtvLqquMQL5ag8FdbZojn77LNNLpT7Cy+8YNlUynO1DageMRl/n3rqqT6P/4K3BmzizBNpY3GFl7uM0/1wMZmX0Ti2HK+zz56bZLK6M/7Ovrfe6TReZxwPfOQjH3Hbbbed+cPVlQ9/+MMWxuTl/PnzzQ/fRQXR/uSTT/pbuW8yNpjLA5AJK9EAshgyZIjd3OyVmIVJZvZQsD/aFfSz2s5cMLDHHntYWyKOOxSBnj17JvPE3uqwuk4bktwMqUV/0ACt6AB4YV6bMvLTR0YRYcSBUysI148unDcWLNmRRx7p2KVQDVZTXKoc9957r/PjcEv7mc98xq765kHxyhRmyn80Ni7zJLwcX+k665JfV36dfW8901FYVEZvVbkHH3zQst57771tOwkP4g8/FXnYsGF47Rp6XBQbsi0aQLM6MhQXQMXv1atXworiu3fvnkzUPvzww0ldKiLfMCe6WYjgB7AIIaDM1Yh32GEHC77uuutsxV44rXShHxopH+of4OdinZ/CcLfeequthBNGnMqQ52ogufi5TedHeIZOW2DRrxokq4oijm0P06ZNS9KxwgNBadYWzGRBpbisNGnhaujPP/+8afdNNtkk0fpp+OVhCBKeqBCs2uQFWDlUA2YFll5XZSAa2QcH3Q888IBZXJKF4ovkwhtlwfXxfqhipLNiyvaZcgCvR48eFuyHTLZvUM/luEV4Vlt46aWXjNyNN944uaVajVeu+HzxxRdthbnVt1mrTrIKOnv2bDd48GDrbOhUgb322itRNHTEtE8pX0Oo8Ce5zJ07N8FS2mp1PVFcSsn+iTvuuMN6BD/Z7vw8g0XpJcLDZeOYn5tITHzCqHRYE+DXojlJUwlUoH6uw/lJy0qoFeOOP/74RHGpMCom+F+k3l8LbkdwGDbI4mLPVgiSNR2GZOjH/bZNgo2+RQbqC8MMYNttt3Ub+OVwQDyrbNRgf/Ob37i//OUviSIz5AL9wQ9tAqDMgb59+7ry26PEf1gXUHRqyJawTn8dqdMqj+nTpzu/aOJGjBjh8GtqY+DAgUbVlClT3AknnGB+ygvlXEn5SC4YRI899pilGzRoUJJvNVYTxSUC2U8DoLT8MnXSM0iwxAkXS4C9KGygI54CYkMZvaiffHWjR48GvUugQv/gBz9oDV3zIB3JlMYS7uIPeamWT0dwq+UVxrN3RxBWVoXJlUWy4JlnzCQvuuJioykWMAAv2OyqT4TJH/JJAwjj7KFgf9RBOl+gUnmHcbSrRkBH6rRwhw4dam2aucktt9zShonf/va3zcK64oor3Mknn+yYJjrttNOSzlZp03igTOmY2bfI/kUAfbHZZpuZv1JaEBLFZdj+zy9Ny+s233zzxJoKM8JPBcNMZKPghRde6M455xxLd/rpp7svf/nLpnGTjLrg0bswoRFeMwDeBI2qPGqMvEeTs2q0ejeu5P5HX8D0TkUHFJfqmHhL40kyIS4sjzTcPIepTHEZoQDwlsW7OmrwwjrCc71AdJBfNdmKTto5U0iMyFgouuiii8xyfuKJJ9z+++/v5s2bZ0YO85PKV2ktoOxPcRhKTAMBu+66qxk/8B3KoSypPa6huEJGmDjVC9IS0zvwQ8EBFMhJJ51kk8o8h4IPCVF4GAZ+FlSiIStNvcLpKRsB9DYCvaMSnwwtKsUrr7y7fHsWVu4sekMlXWS+RTt1XcN+lXca72H7U9o0vK6EhbKtJR9oghY+S/J70MzyZzro7rvvNguJISLztAwPBZVoJz+1/aefflpJHENFIJRBElnmWUNxaXIQvFAzl6VLHhnPwgDA50CamwiJS5D/5xHREkh5fPgsHIagjPmVNsSp5qegEDpzKrVAKHQmGxsB4RwHE9ZZgIUCMNehip+FW4RwOje+RwRkzSJvlbNkr+EkeJ0pc9LlCeiotMxPu4LfNAjbXKPKO8xX8k6jhTCVC0M6/zWD8182GCqridRJJusZPh500EFuwoQJ7lOf+lQyMlLarLyp99oSdOihh3boM8FEcYmB97///cl7WLpFs1LZyonQMxOtGqPyrZGEgrJg5exPf/qTnSLBChIVkHSYhsw5sTKhfJKXlnmwzih0TFKGpp2Fo48+OtlzUu2d4TsklzCsHn5497vGHZPPYWUlb9GHK8XFZGijlGg9+Kk1D+qSvmNlGZy5PuqMeJa8GZIAO++8czKRrbha35UHPGjW0EeWJryVd1bwD4Th22yzTUNY6IgcVS4oJyktFpWYtmGvJ/u4LrnkEqObuS5+GBlhmZYzoTyXLVtmhzYQz7YfLDbiaumoEsWlzDEFmaNi3urnP/+5898N2Qe/KKJweCNBh0uZO+64o7KxCVg+nvXf4dkyKsqKj6/ZbIYSYzLPfydVdfgjITNp9/Wvf932iGFqKzx5YYYHIdB7ywwFrda0GVnWJRgLEHmhuKjIki9yVcEiK/8Nn72PxYlQ/nUhoomZIHP4YqiIMgKee+45U9rq7EJytAJHZ6UGH8YXya+2opU4ynvZ8mW2cq+6KJcyF2j0oudWuKJr5MiRzu/6N4VFvfVffTg6HgwKlM7kyZNtvrt///6J8aK0WXRT/oKddtrJvKr7Cs90PWICvvGYP/wI1Jt/JT8cTHBCD/h+Touuwn58wgIQ7nsZ8+vzAq8E7Zm/G2+8seQtoORzgSSixR6vEI2CRn/yIznr2zTfOEuvv/66vZs40cGHx5ItH+MCSmsPBfsTXw8//FDCl+/QjIuwzvhjkkr77bef4fDxMUB9Up2ygAL9qcz4mNp/KWB8+aGWcaA48eZX6izen5iQfAOsuK6yrHepTVK3OvuRtT/iyuj0R1iV/JC/U6Sdd955loc3ZEre+rI8auX1vxtM/qfWNJSjd9dOVkw//62cYxINExDwmZvlNHXqVPfjH//YwjiaQj1EaOqxRMr41X+Tlgx7sLwOPPDAZOhoGaxFf76EjFuO7QAwvZm/A7AmkS/ASg2ArPT5jwUU9E898A477Ghnt8GGeIRnDYvZfKl5U60kIzOlLxr7aleMGli8AviUCZ6Jg294Y1rlvvvus3jmjBhWg5MHvlVnqZ+AFuSYHmLOknj9DCHjT/lwVNbXvvY1w2JUEQ6RM5KuHuwzWg28oJLnZ555pnTWWWeZVvSpzPVDvNKYMWOSMD+sLHH0irSu0uNKw3NECen9fJjl/Z3vfKeknlb4yUureDqKXyW71aJlETTa4uKl4oOjgpANR9qE4OcHk6NtoAeQPEO8ovnFg98DaHwfccQRJXgNgWNNkIlffrdgZCV5hXhF8otv2oDaEiObEPzUisV9+tOfbshH9aKhHhYXdDNK8POzxkK18lE8+N7gKfn53ZL/Kqfkv020D+45SIBDBbwSryk/tGQq6EVEclwNR6ugoBjmzZo1q+Q/VzFFJGGAF6bhWYrAH5JnBUJBvfzyyyUUl6A8jcJb4YreZiouCkrnmF188cUmU29xlDiXiQpOYQryJCvR1BWX6QN49N/DlhYtWmS8Sxbnn39+zZW4KzQ0M63Kj7Yj5eV3jZf85zR2lAthfhNmMmwK21Y96FR+9VJcokl86bmSCw1MPflFGVPOcv08tB1vVGtea0zOe+EZYJ76TMyUZacsvywADwiHiCGuVpFY+mT7hO9lLVr5h7hrix/5+gK24QC7jTG52eDHsJFVRo7FfnLOk25HP6wCwM3DkKEe5SNePvnJTxqfrEzxOQn8sdrqOw6bBKY+tVMdUZkzuc2XKf4sNudHNDbUosxZDGP3eLXPZepRBvXIg7KBp47US8o03O8lOrLOlld8uZupuEDkJVQyfgIJP3zOUlhiiNMivvCFL7gTTzzRlk9ZVVTlVT5roytZIr+PfvSj9tN8B/MbgnaTlfjGZS/Qd7/7Xdt2A5/6xAneec6qW5JN0VzxjiFAm2BLgbdCrAMTr0VR1qK3o2UAf1lQa54VFReZI2h+IZQ/h3GhHyIgksrI5k/2iMnaasdKGfJeq18VWfIIG64qcK3yrvWdecATT+IxVNSEES+cPNBbTxrgi/IG+PZW39+K71obbz1pamZe9eCvquLqLEMUDAWhvUd+DsNxxhB7duhhFN7Z/NspXdhIVaEJq0cB511O4nFt4ztUyvC+tpR3vepjwxQXBSHlxDE5bDrkQ00KSeH1YqKd8gkrdDvxVY2XtZVv5LI2816tXmTFN0xxsU+FYQ+71jmA7Bvf+EYWDTE8SiBKIEqgQxJYbQNqh1KmIMvcZ5Mah/5xljorRBx1w5BAY/iUpDEoSiBKIEqgZgnU1eKSyctkIxc8cO4Su/ABlJbmM2qmLiJGCUQJRAmkSKCuiivMnyM8dIxHVFqhZKI/SiBKoKsSaJjiQlkBWGHR0upqMcX0UQJRAqEEGqa4orIKxRz9UQJRAvWUQF0n5+tJWMwrSiBKIEogSwJRcWVJJoZHCUQJ5FYCUXHltmgiYVECUQJZEoiKK0syMTxKIEogtxKIiqtK0WhTbRW0GB0lUBgJtEOdjoqrSnWLq6NVBBSjCycBbRQvHOEBwVFxBcJI83b4LOy0TGJYlECOJMAneYKiWl9RcakEAzcsTE6mjBAl0E4S4K7UokNUXCklGJrSebyEla8SQuWawkLbBMFnOb9pYW3DcAoj8FvP8g7vsQzresqrcxvUsJ3zueW4wITpMyrNu/Esf4HZyiSdxkrDUuPCUsDPR/wKE05mJgWOkMLW+XVSXuK9wKx1mfSouKqIUJWlClrDo6FDSopTN/xlsnYTMncutmPjFU+4/lYa5y8gtbsnkQG3rQ8ZMsQOp6QRC7fhhdDEF8CTypsTg7mHkFvPuVhl/fXX7xLP5F10iIqrSgk2oncrt5yqkGDR0MG19Jwmy604/qo4OzqIyKI0XFkQNMhKchU/NFiufedSiTS4/PLLnb+D0Bq40qThtToM2mQdV+JbdIoXJtG5GYvbf+AV+NKXviS0Tru10NDpzJuUMCquJgk6fI16UsJUScP4ND+Kyl/bbrfh4Ad0pVMRKiJ8dpTv2267zZSWv4fTDqXkBiR/R6cdUsnN3v5yYtenTx83atSoNJHlIkzlGw73KpWXFNySJUvcZZddZjzccMMN5h5yyCG54CkPRETF1eRSoCL7S0DtyvHBgwfb5SGq3JVIGThwoBs2bJijF547d67zN0Gb0quUJk9xNFauWvcXAtsdkt26dUtV2pIF19EfdthhbubMmc7feJywwtX0yE2NePr06W7vvfc2Ja60CXKLPaIHJTR//nyHsuVaMoWnkSelxqIQd01y1X3fvn3dhAkTClXeabzVMyyuKtZTmhXyorICKB4sBZTQsmXLLExx9pDxR4XHwmL4tNFGGxmWKnlGktwEi7/bb7/djRw50i1evNhoU3hIqMKYzxk7dmyitLBE+AEHH3ywzfXgv+uuuxxKLo8gXrh/Yf/997c5qmp0UqakQ7GjtABZa6HFWi2fdo+PiqtJJRwqGXpeIAyrRoYaLZVa/mpp8havrSW6RzCNPsmEG88nTpxoKChrGi0//ACKH+Cy4byDth9oaF+NXikvlbMUYLV0a1N8HCo2qbSpfGqUndmNr7S48jeJ9Lq9RkqnUkMUb8ccc0wyJyaLA0IUL2Ww5557pl7pXjei65CRFJDcWrIUn+CG/lrSrg040eJqUimHlU/+crdJpDT9NeV8lj+nEZQ1LFLa5cuXW7Lhw4e7DTfcMC2LloeJVhGiZ7kKj27HJRAtro7LrKYUsi6EjJWB5UC4LA7hMO9V3lB5LmIFx6oQfyHvDA/Fr9xKfJNHOf8Kw2Jl0h4YMWKEuby3XIYW0aS/NL4JW3fddZOhfch3OW88t5L+Jompbq+Jiqtuolw9o3B4E8aweVBzPBtssIFFUbnTQA01LS6vYZUaH7wDneUbRYBcn3zyScdWCfY39fHbIVotJ96fxrfqgIa1clX+5WXYaj7K6cnzc1RcDSgdetaXXnrJse+ICk2FBPAT9sYbb9jzvHnz3FtvveX4kJsel59wWQJnMrdolZmlfybWaZziBWZ51mriggULjH/xzQO8I7etttrKVtTK+SYORbBq1Srbt/XZz37WjRkzxvJR+uShyR5oX7FihW0QDvmGB8rwhRdeMIpefPFF84cfOZMWy5MVxJ49exauvJss6uR1UXEloui6R42NBrn77ru7119/PTPT7t27u/322y8znkqO8pKVkYmYs4jJkye7iy66KJOqfv36OfZiZcHdd9/t9t1339UacCiD733vew7ZnXfeeabIiEuzdrLyr3e4ypwvGo4//vjM7Lfffnvbl8XerDS4+uqr3bHHHpsWFcNSJBAVV4pQuhpEr0sDZgKZ4YHmNmhg9K5Tp051c+bMcWeeeab1tITR8/KjIdIYirZXSzJDGffo0cNtuummtssfnuAHa4m9WTNmzHCTJk1yvXv3TuJJi2yw1LC4QpBiIGzatGnurLPOcq+++qqtJMoKA4dfKxXYoEGD3LnnnmvbM1Te0MQ0AN9a/uQnP3Hjxo1zu+66q9UB+EE2yGXlypXJje+ER6gugai4qsuoZgwqIrDeeus5lvPTAMU0e/ZsU1zjx49322yzTRpaEtbKxpgQ0QEPGy35pQHDJhTXcccd5/r375+GkoSFfCNXLBrSMdzs1auXdQY0ellcUpAqgySjBnv0PhQSvzSAdhQXu/0PP/zwNJQkTPklAdGTKoG4HSJVLPUPpPcF6I1DP2E0vlqBtEovt9a0rcITneJTFome0+giDfE05FmzZjlOweCTISw1LNRQaWHZLlq0yHD1rrQ8mx0m/sSv3FpplBITPq78zeYlb++LiqtBJaJKJlevKX8uD68UL1y5qtg0ZNLlBcRD6GbRFuKEPNDosbo4zoYtD88884xjnghgKA4Qz2Q980ZMjgNSFvbQ5L8sXsrJKMcL+RYuYZQrIOuT8g7TCndtdONQsUGlLqVSnn1Hw0lPZVXlxWUlEsDqALSdArys/A2xSX8doSENFz7gDWXFIsdRRx1l80RYXuIZHPi++eabTVntsssuxp3im8Tqaq9J4yVEUDyu/GG8/CpHKWiVN1MQbCmpll75tLMbFVcLSlcVslLlDckCj8MDmZS+5ppr3P3332/RNGhWHjlYj6X0vG+fkPKtxLcaLRPanAIBXHfddfazh5Q/Pt5GYclKS0FpSZB4Eb9yKxGjNGybwYrkGB+2fgDMDzJkxgLlu88ifKdZideuxEXF1RXpdSCtKiRJ9LlKLcMapVu6dKm77777bI6HpXMaAfuBWJ1k6wQT4iiuPIMsB831pNGqxo2MrrjiCvucB3xZlUojPHbR77HHHhasMOHkxUUJAbVcvKLyhi8sTFZap0yZkihm8vrVr37lhg4daopL+HnhtVl0RMVVRdJUjHqAGhUu+5gGDBhgWyWq5a10nMfFrxoIvxpeK+KxDjmSRt8WVqJ19OjRHSIxjw1Y/G2xxRbugAMOWGOrRxqDskqxqLJWpsN0ekcYVs1frzpd7T2NjI+Kq0bpYh2VVxKey8OqZccwsfwoYlXWamnLK1zYWDtKR7V31TNetKGww82nCk97F7yJP7lZeORTKa+0dM0IE02cYMGWCIHC9Zzlwjcg/uUSVi0PcJUefEBD6fLw/8YW6z8qrirlxYQo0MpJX5FYXlnLn4XXDi68iT+5aXxVikvDL1KYeCt3q/EgBad0wlcHqW9GCS/HEW7e3ai4Ukoo7JHuvPNO9+abb66xy5swDgTktpkIUQJ5kYCsKva1cTcBSkr1mTjmQdkPJ9CWCz0XxY2KK6WktOrHTmgmiPmlwYUXXpgoLvVyaXgxLEqg2RJYuHChO+mkkzJfu9NOO9kpGxpRZCLmNGId3+DqM/ucUwY7QpaUD6tffD8m07rcnOaZ3ovvEHUccUfeE3GjBBotAeowK5LU4bQmThh1mIWSItbhqLjKapCUV1lwfIwSaFsJFLHOx6FiWXXEmlJvJH+5xUU8QLissrJs4mOUQEslENbhLEKksIpYh6PFlVWqMTxKIEogtxKIH1nntmgiYVECUQJZEoiKK0syMTxKIEogtxKIiiu3RRMJixKIEsiSQFRcWZKJ4VECUQK5lUBUXLktmkhYlECUQJYEouLKkkwMjxKIEsitBKLiym3RRMKiBKIEsiTwf0qYb8BvIo5FAAAAAElFTkSuQmCC)\n",
        "\n",
        "Cálculo del Gradiente:\n",
        "\n",
        "![imagen.png](data:image/png;base64,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)\n",
        "\n",
        "o:\n",
        "\n",
        "![imagen.png](data:image/png;base64,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)\n",
        "\n",
        "---\n"
      ],
      "metadata": {
        "id": "_BfOImKeYU8H"
      }
    },
    {
      "cell_type": "code",
      "source": [
        "# si ksize = -1 Sobel emplea las máscaras de Scharr y\n",
        "# con ksize = 3, 5, 7... emplea las máscaras de Sobel\n",
        "ksize = 3\n",
        "\n",
        "gX = cv2.Sobel(img, ddepth=cv2.CV_32F, dx=1, dy=0, ksize=ksize)\n",
        "gY = cv2.Sobel(img, ddepth=cv2.CV_32F, dx=0, dy=1, ksize=ksize)\n",
        "\n",
        "# la magnitud de los gradientes se de devuelve en coma flotante (float)\n",
        "# por lo que devemos convertirla a unsigned 8-bit integer\n",
        "# para poder visualizarla\n",
        "gX = cv2.convertScaleAbs(gX)\n",
        "gY = cv2.convertScaleAbs(gY)\n",
        "\n",
        "# combinamos las imágenes de gradiente en una única imagen\n",
        "combinada = cv2.addWeighted(gX, 0.5, gY, 0.5, 0)\n",
        "\n",
        "# Visualizamos los resultados\n",
        "plt.subplot(221), plt.title('original'), plt.axis(\"off\")\n",
        "plt.imshow(img, 'gray')\n",
        "plt.subplot(222), plt.title('Gx'), plt.axis(\"off\")\n",
        "plt.imshow(gX, 'gray')\n",
        "plt.subplot(223), plt.title('Gy'), plt.axis(\"off\")\n",
        "plt.imshow(gY, 'gray')\n",
        "plt.subplot(224), plt.title('Resultado'), plt.axis(\"off\")\n",
        "plt.imshow(combinada, 'gray')\n",
        "plt.show()"
      ],
      "metadata": {
        "id": "0V5ItG3WxmSL"
      },
      "execution_count": null,
      "outputs": []
    },
    {
      "cell_type": "markdown",
      "source": [
        "---\n",
        "\n",
        "##**Ejemplo II.2**: Gradiente de Scharr\n",
        "\n",
        "Cuando el tamaño de la máscara de Sobel es 3 puede producir imprecisiones notables (después de todo, Sobel sólo es una aproximación de la derivada). OpenCV soluciona esta inexactitud para núcleos de tamaño 3 mediante el uso de la función Scharr(). Esto es tan rápido pero más preciso que la función estándar de Sobel.\n",
        "\n",
        "Gradientes en X e Y:\n",
        "\n",
        "![imagen.png](data:image/png;base64,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)\n",
        "\n",
        "---\n"
      ],
      "metadata": {
        "id": "eq9gM-apq2uo"
      }
    },
    {
      "cell_type": "code",
      "source": [
        "# Obtenemos los dos gradientes y los combinamos\n",
        "scharr_X = cv2.Scharr(img, cv2.CV_64F, 1, 0)\n",
        "scharr_X_abs = np.uint8(np.absolute(scharr_X))\n",
        "\n",
        "scharr_Y = cv2.Scharr(img, cv2.CV_64F, 0, 1)\n",
        "scharr_Y_abs = np.uint8(np.absolute(scharr_Y))\n",
        "\n",
        "scharr_XY_combined = cv2.bitwise_or(scharr_Y_abs, scharr_X_abs)\n",
        "\n",
        "# Visualizamos los resultados\n",
        "plt.subplot(221), plt.title('original'), plt.axis(\"off\")\n",
        "plt.imshow(img, 'gray')\n",
        "plt.subplot(222), plt.title('Gx'), plt.axis(\"off\")\n",
        "plt.imshow(scharr_X_abs, 'gray')\n",
        "plt.subplot(223), plt.title('Gy'), plt.axis(\"off\")\n",
        "plt.imshow(scharr_Y_abs, 'gray')\n",
        "plt.subplot(224), plt.title('Resultado'), plt.axis(\"off\")\n",
        "plt.imshow(scharr_XY_combined, 'gray')\n",
        "plt.show()"
      ],
      "metadata": {
        "id": "xqeTFI-nq5xV"
      },
      "execution_count": null,
      "outputs": []
    },
    {
      "cell_type": "markdown",
      "source": [
        "---\n",
        "\n",
        "##**Ejemplo II.3**: Laplaciana\n",
        "\n",
        "- abrimos la imagen numeros.png\n",
        "- aplicamos un filtro gaussiano para eliminar ruido\n",
        "- aplicamos 3 formas de hacer una laplaciana (2 de ellas construyendo las máscaras de convolución de la laplaciana vistas en clase de teoría y la tercera aplicando la función cv2.Laplacian de OpenCV)\n",
        "- Aplicamos algunas transformaciones de los resultados para que se puedan visualizar\n",
        "\n",
        "---\n"
      ],
      "metadata": {
        "id": "3Isgkob9RSbK"
      }
    },
    {
      "cell_type": "code",
      "source": [
        "# Construimos el path de la imagen que vamos a leer del drive\n",
        "path = \"/content/drive/MyDrive/Curso_24_25/imas/\"\n",
        "nombre_imagen = 'numeros.png'\n",
        "path += nombre_imagen\n",
        "\n",
        "# Leemos la imagen\n",
        "img = cv2.imread(path, cv2.IMREAD_GRAYSCALE)\n",
        "\n",
        "# Aplicamos un suavizado gaussiano\n",
        "img = cv2.GaussianBlur(img,(13,13),0)\n",
        "\n",
        "# Creamos dos máscaras laplacianas\n",
        "laplaciana1 = np.array([\n",
        "  [0, 1, 0],\n",
        "  [1, -4, 1],\n",
        "  [0, 1, 0]\n",
        "])\n",
        "\n",
        "laplaciana2 = np.array([\n",
        "  [1, 1, 1],\n",
        "  [1, -8, 1],\n",
        "  [1, 1, 1]\n",
        "])\n",
        "\n",
        "# Aplicamos las dos convoluciones\n",
        "res1 = cv2.filter2D(img, -1, laplaciana1)\n",
        "res1 = cv2.equalizeHist(res1)\n",
        "\n",
        "res2 = cv2.filter2D(img, -1, laplaciana2)\n",
        "res2 = cv2.equalizeHist(res2)\n",
        "\n",
        "# Aplicamos la función Laplacian de OpenCV\n",
        "res3 = cv2.Laplacian(img, cv2.CV_64F)\n",
        "res3 = res3 / res3.max()\n",
        "\n",
        "# Visualizamos los resultados\n",
        "plt.subplot(221), plt.title('Original'), plt.axis(\"off\")\n",
        "plt.imshow(img, \"gray\")\n",
        "plt.subplot(222), plt.title('M1'), plt.axis(\"off\")\n",
        "plt.imshow(res1, \"gray\")\n",
        "plt.subplot(223), plt.title('M2'), plt.axis(\"off\")\n",
        "plt.imshow(res2, \"gray\")\n",
        "plt.subplot(224), plt.title('Laplaciana'), plt.axis(\"off\")\n",
        "plt.imshow(res3, \"gray\")\n",
        "plt.show()"
      ],
      "metadata": {
        "id": "HmlQu3y0RU0o"
      },
      "execution_count": null,
      "outputs": []
    },
    {
      "cell_type": "markdown",
      "source": [
        "---\n",
        "\n",
        "#**EJERCICO 3**: Convoluciones direccionales específicas\n",
        "\n",
        "**Enunciado**:\n",
        "\n",
        "implementar las 4 convoluciones direccionales específicas vistas en teoría (O-E, N-S, SO-NE, NO-SE)\n",
        "\n",
        "O_E = [ [-1, -1, -1], [ 2,  2,  2], [ -1,  -1,  -1] ]\n",
        "\n",
        "...\n",
        "\n",
        "**Comentarios**:\n",
        "\n",
        "las imágenes resultantes son muy oscuras y si se quieren visualizar mejor se puede hacer una ecualización del histograma después de haber aplicado el filtro correspondiente.\n",
        "\n",
        "---\n"
      ],
      "metadata": {
        "id": "4Xgr9bXrg9LU"
      }
    },
    {
      "cell_type": "code",
      "source": [],
      "metadata": {
        "id": "jdviBhu7hH7h"
      },
      "execution_count": null,
      "outputs": []
    },
    {
      "cell_type": "markdown",
      "source": [
        "---\n",
        "\n",
        "#**EJERCICIO 4**: Implementar el gradiente de Sobel\n",
        "\n",
        "**Enunciado**:\n",
        "\n",
        "- Implementar el filtro de Sobel (sin utilizar ninguna función de OpenCV)\n",
        "\n",
        "- Utilizar cv2.Sobel para obtener el resultado del gradiente de Sobel con OpenCV\n",
        "\n",
        "- Comprobar que ambos procesos dan el mismo resultado (restando ambas imágenes entre sí y comprobando que el resto es cero para todos sus píxeles)\n",
        "\n",
        "---\n"
      ],
      "metadata": {
        "id": "PGe4aibZ9aHe"
      }
    },
    {
      "cell_type": "code",
      "source": [],
      "metadata": {
        "id": "STjTPQQz_ZSW"
      },
      "execution_count": null,
      "outputs": []
    },
    {
      "cell_type": "markdown",
      "source": [
        "---\n",
        "\n",
        "#**EJERCICIO 5**: Preproceso completo para la correcta segmentación de las casillas de un sudoku\n",
        "\n",
        "**Enunciado**:\n",
        "\n",
        "Abrir la imagen sudoku.jpg y aplicar transformaciones de preproceso para filtrar ruido, eliminar sombras, transformar perspectivas, resaltar información útil... con el objetivo de dejar la imagen preparada para el posterior proceso de reconocimiento de segmentación de las casillas del sudoku a resolver.\n",
        "\n",
        "---"
      ],
      "metadata": {
        "id": "Hya4Hb6Hz96H"
      }
    },
    {
      "cell_type": "code",
      "source": [],
      "metadata": {
        "id": "nPkbLGv3ptUb"
      },
      "execution_count": null,
      "outputs": []
    }
  ]
}