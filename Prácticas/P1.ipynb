{
  "cells": [
    {
      "cell_type": "markdown",
      "source": [
        "---\n",
        "\n",
        "# **Práctica 1**: Ocultar información en imágenes digitales\n",
        "\n"
      ],
      "metadata": {
        "id": "KXN2GexTZBll"
      }
    },
    {
      "cell_type": "markdown",
      "source": [
        "---\n",
        "\n",
        "##**Inicio**\n",
        "\n",
        "---\n"
      ],
      "metadata": {
        "id": "gpKKXi4PYfug"
      }
    },
    {
      "cell_type": "markdown",
      "source": [
        "**Empezamos** importando las librerías necesarias, montando el drive y abriendo la imagen que vamos a utilizar en esta práctica (en niveles de gris y en color RGB): texto en cursiva\n",
        "\n",
        "---"
      ],
      "metadata": {
        "id": "O-fZky8fJ4Yy"
      }
    },
    {
      "cell_type": "code",
      "execution_count": null,
      "metadata": {
        "id": "PSchJFnmZckz"
      },
      "outputs": [],
      "source": [
        "# Importamos módulos y funcionalidades\n",
        "import cv2\n",
        "import numpy as np\n",
        "import matplotlib.pyplot as plt\n",
        "from google.colab import drive\n",
        "from google.colab.patches import cv2_imshow\n",
        "\n",
        "# Montamos nuestro Drive\n",
        "drive.mount(\"/content/drive\", force_remount=True)\n",
        "\n",
        "# Directorio de trabajo\n",
        "dir = \"/content/drive/MyDrive/Curso_24_25/imas/\"\n",
        "\n",
        "# Ruta de la imagen\n",
        "path = dir + 'lena.bmp'\n",
        "\n",
        "# Leer la imagen en color\n",
        "img_BGR = cv2.imread(path, cv2.IMREAD_COLOR)\n",
        "\n",
        "# Convertir a RGB\n",
        "img_RGB = cv2.cvtColor(img_BGR, cv2.COLOR_BGR2RGB)\n",
        "\n",
        "# Leer la imagen en niveles de gris\n",
        "img_gris = cv2.imread(path, cv2.IMREAD_GRAYSCALE)\n",
        "\n",
        "# Mostrar las dos imágenes\n",
        "plt.subplot(121), plt.title(\"en niveles de gris\"), plt.axis(\"off\")\n",
        "plt.imshow(img_gris, cmap = 'gray')\n",
        "plt.subplot(122), plt.title(\"en color\"), plt.axis(\"off\")\n",
        "plt.imshow(img_RGB, cmap = 'gray')\n",
        "plt.show()"
      ]
    },
    {
      "cell_type": "markdown",
      "source": [
        "---\n",
        "## **Enunciado**\n",
        "\n",
        "- Esconder un mensaje privado (una cadena de caracteres) en una imagen digital en color (lena.bmp) intentando que dicho mensaje sea lo más largo posible (sin que se aprecie pérdida de calidad visual)\n",
        "\n",
        "**Se pide**: Implementar y probar las siguientes funciones\n",
        "\n",
        "---\n"
      ],
      "metadata": {
        "id": "VmeIZYzAdOUb"
      }
    },
    {
      "cell_type": "code",
      "source": [
        "# Implementar una función tal que dada una imagen y un mensaje de texto\n",
        "# se devuelva una imagen con el mensaje oculto pero\n",
        "# no diferenciable visualmente de la original\n",
        "def ocultar_mensaje(imagen, mensaje):\n",
        "  pass\n",
        "\n",
        "# Implementar una función tal que dada una imagen devuelva\n",
        "# el mensaje oculto que contiene\n",
        "def decodificar_mensaje(imagen):\n",
        "  pass\n",
        "\n",
        "# Utilizando estas funciones probar a codificar distintos mensajes\n",
        "# de distintos tamños en la imagen y a decodificarlos\n"
      ],
      "metadata": {
        "id": "JCFF0R5QyxLK"
      },
      "execution_count": null,
      "outputs": []
    },
    {
      "cell_type": "markdown",
      "source": [
        "---\n",
        "\n",
        "**Optativo**: quien quiera profundizar en el desarrollo de esta práctica (no es de entrega obligatoria), puede continuar el desarrollo del problema implementando un método RLE de compresión de diseño propio, codificando en dicho método la información de los 4 planos de bit más significativos (obviando el resto que se puede rellenar con valores aleatorios) y almacenando la imagen codificada en un fichero con formato propio\n",
        "\n",
        "**Normas**: La práctica se puede entregar:\n",
        "\n",
        "  (a) en un cuaderno en Python para Colab (extensión .ypynb) incluyendo una breve memor ia explicativa en el mismo cuaderno\n",
        "\n",
        "  (b) en un fichero de código en Python (extensión .py) adjuntando un breve memoria explicativa en otro fichero en formato pdf\n",
        "\n"
      ],
      "metadata": {
        "id": "uelkbrb1p6Xg"
      }
    },
    {
      "cell_type": "markdown",
      "source": [
        "---\n",
        "\n",
        "## Comentarios y ayudas\n"
      ],
      "metadata": {
        "id": "_jFtH2uxdf7x"
      }
    },
    {
      "cell_type": "markdown",
      "source": [
        "---\n",
        "###**Contenido aleatorio en el último plano de bits**:\n",
        "\n",
        "- Modificamos el contenido del último plano de bits con información aleatoria (0 o 1)\n",
        "\n",
        "---"
      ],
      "metadata": {
        "id": "BFPBu_o4rRSA"
      }
    },
    {
      "cell_type": "code",
      "source": [
        "# Crear una copia de la imagen\n",
        "img_modified = img_gris.copy()\n",
        "\n",
        "# Introducir información aleatoria en el último plano de bits\n",
        "rows, cols = img_modified.shape\n",
        "for i in range(rows):\n",
        "  for j in range(cols):\n",
        "    # Obtener el valor del píxel\n",
        "    pixel = img_modified[i, j]\n",
        "\n",
        "    # Cambiar el último bit del píxel de forma aleatoria\n",
        "    if np.random.randint(2) == 1:\n",
        "      img_modified[i, j] = pixel | 1       # 1 = 00000001\n",
        "    else:\n",
        "      img_modified[i, j] = pixel & 254   # 254 = 11111110\n",
        "\n",
        "# Mostrar las dos imágenes\n",
        "plt.subplot(121), plt.title(\"Imagen Original\"), plt.axis(\"off\")\n",
        "plt.imshow(img_gris, cmap='gray')\n",
        "plt.subplot(122), plt.title(\"Imagen Modificada\"), plt.axis(\"off\")\n",
        "plt.imshow(img_modified, cmap='gray')\n",
        "plt.show()\n"
      ],
      "metadata": {
        "id": "nEq-oitBL40t"
      },
      "execution_count": null,
      "outputs": []
    },
    {
      "cell_type": "markdown",
      "metadata": {
        "id": "3Isgkob9RSbK"
      },
      "source": [
        "---\n",
        "###**Contenido aleatorio en los 4 últimos planos de bits**:\n",
        "\n",
        "- Modificamos el contenido de los 4 últimos planos de bits con información aleatoria (0 o 1)\n",
        "\n",
        "---"
      ]
    },
    {
      "cell_type": "code",
      "execution_count": null,
      "metadata": {
        "id": "HmlQu3y0RU0o"
      },
      "outputs": [],
      "source": [
        "# Crear una copia de la imagen\n",
        "img_modified = img_gris.copy()\n",
        "\n",
        "# Introducir información aleatoria en los cuatro últimos planos de bits\n",
        "rows, cols = img_modified.shape\n",
        "for i in range(rows):\n",
        "  for j in range(cols):\n",
        "    # Obtener el valor del píxel\n",
        "    pixel = img_modified[i, j]\n",
        "\n",
        "    # Cambiar los cuatro últimos bits del píxel\n",
        "    random_value = np.random.randint(16)  # Valor aleatorio entre 0 y 15 (entre 0000 y 1111)\n",
        "    img_modified[i, j] = (pixel & 240) | random_value # 240 = 11110000\n",
        "\n",
        "# Mostrar las dos imágenes\n",
        "plt.subplot(121), plt.title(\"Imagen Original\"), plt.axis(\"off\")\n",
        "plt.imshow(img_gris, cmap='gray')\n",
        "plt.subplot(122), plt.title(\"Imagen Modificada\"), plt.axis(\"off\")\n",
        "plt.imshow(img_modified, cmap='gray')\n",
        "plt.show()\n"
      ]
    },
    {
      "cell_type": "markdown",
      "source": [
        "---\n",
        "###**Contenido a cero en los 6 últimos planos de bits**:\n",
        "\n",
        "- Modificamos el contenido de los 6 últimos planos de bits con valor 0 (últimos 6 bits a 0. Máscara = 11000000)\n",
        "\n",
        "---\n"
      ],
      "metadata": {
        "id": "_MSzLP48vGzZ"
      }
    },
    {
      "cell_type": "code",
      "source": [
        "# Crear una copia de la imagen\n",
        "img_modified = img_gris.copy()\n",
        "\n",
        "# Nos quedamos sólo con la info de los dos primeros bits (el resto a 0)\n",
        "rows, cols = img_modified.shape\n",
        "for i in range(rows):\n",
        "  for j in range(cols):\n",
        "    # Obtener el valor del píxel\n",
        "    pixel = img_modified[i, j]\n",
        "\n",
        "    # Cambiar los seis últimos bits del píxel a 0\n",
        "    img_modified[i, j] = pixel & 192 # 192 = 128 + 64 = 11000000\n",
        "\n",
        "# Mostrar las dos imágenes\n",
        "plt.subplot(121), plt.title(\"Imagen Original\"), plt.axis(\"off\")\n",
        "plt.imshow(img_gris, cmap='gray')\n",
        "plt.subplot(122), plt.title(\"Imagen Modificada\"), plt.axis(\"off\")\n",
        "plt.imshow(img_modified, cmap='gray')\n",
        "plt.show()\n"
      ],
      "metadata": {
        "id": "ws-_094fvNPA"
      },
      "execution_count": null,
      "outputs": []
    },
    {
      "cell_type": "markdown",
      "metadata": {
        "id": "xGG80KlzDGjd"
      },
      "source": [
        "---\n",
        "###**Para imágenes en color**:\n",
        "\n",
        "\n",
        "\n",
        "```\n",
        "# Crear una copia de la imagen\n",
        "img_modified = img_RGB.copy()\n",
        "\n",
        "# Obtener información de filas, columnas y canales\n",
        "rows, cols, channels = img_modified.shape\n",
        "\n",
        "# Bucle\n",
        "for i in range(rows):\n",
        "  for j in range(cols):\n",
        "    for k in range(channels):\n",
        "      # Obtener el valor del píxel\n",
        "      pixel = img_modified[i, j, k]\n",
        "      ...\n",
        "      ...\n",
        "      img_modified[i, j, k] = ...\n",
        "\n",
        "```\n",
        "\n",
        "\n",
        "---\n"
      ]
    },
    {
      "cell_type": "markdown",
      "source": [
        "---\n",
        "\n",
        "# **Práctica 2**: Resolver un sudoku contenido en una imagen digital\n",
        "\n"
      ],
      "metadata": {
        "id": "N2IG9rC9fG8V"
      }
    },
    {
      "cell_type": "markdown",
      "source": [
        "---\n",
        "\n",
        "##**Inicio**\n",
        "\n",
        "---\n"
      ],
      "metadata": {
        "id": "se025eqVftU2"
      }
    },
    {
      "cell_type": "markdown",
      "source": [
        "**Empezamos** abriendo la imagen que vamos a utilizar en esta práctica:\n",
        "\n",
        "---\n"
      ],
      "metadata": {
        "id": "9X1ZPXcffxvm"
      }
    },
    {
      "cell_type": "code",
      "source": [
        "# Directorio de trabajo\n",
        "dir = \"/content/drive/MyDrive/Curso_24_25/imas/\"\n",
        "\n",
        "# Ruta de la imagen\n",
        "path = dir + 'sudoku.jpg'\n",
        "\n",
        "# Leer la imagen en niveles de gris\n",
        "img_gris = cv2.imread(path, cv2.IMREAD_GRAYSCALE)\n",
        "\n",
        "# Mostrar la imagen\n",
        "cv2_imshow(img_gris)"
      ],
      "metadata": {
        "id": "7XwNqOi6gJqi"
      },
      "execution_count": null,
      "outputs": []
    },
    {
      "cell_type": "markdown",
      "source": [
        "---\n",
        "## **Enunciado**\n",
        "\n",
        "- Reconocimiento de la información de un sudoku a partir de la imagen \"sudoku.jpg\" en la que aparece el estado inicial del sudoku que se quiere resolver\n",
        "\n",
        "**Se pide**: un programa en python que dada una imagen en la que aparezca un sudoku (puede ser sudoku.jpg o cualquier otra) nos devuelva una matriz de 9x9 con la información que hay en cada una de las casillas (de 1 a 9 si hay dígito y 0 si no hay nada)\n",
        "\n",
        "**Nota**: dada la imagen sudoku.jpg el resultado sería:\n",
        "\n",
        "![imagen.png](data:image/png;base64,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)"
      ],
      "metadata": {
        "id": "Hg6vioHKj6BD"
      }
    },
    {
      "cell_type": "markdown",
      "source": [
        "**Optativo**: quien quiera profundizar en el desarrollo de esta práctica (no es de entrega obligatoria), puede continuar el desarrollo del problema implementando un programa en Python que dada una imagen capturada con el móvil devuelva el resultado del sudoku (utilizando el método por backtrakking que se incluye en este cuaderno o cualquier otro que se eliga para su resolución)\n",
        "\n",
        "**Nota**: para el reconocimiento de los dígitos presentes en el sudoku se puede emplear cualquier biblioteca de funciones en python que posibilite manejar un OCR\n",
        "\n",
        "**Normas**: La práctica se puede entregar:\n",
        "\n",
        "  (a) en un cuaderno en Python para Colab (extensión .ypynb) incluyendo una breve memor ia explicativa en el mismo cuaderno\n",
        "\n",
        "  (b) en un fichero de código en Python (extensión .py) adjuntando un breve memoria explicativa en otro fichero en formato pdf\n"
      ],
      "metadata": {
        "id": "s247jG20nGzb"
      }
    },
    {
      "cell_type": "markdown",
      "source": [
        "---\n",
        "\n",
        "## Comentarios y ayudas\n"
      ],
      "metadata": {
        "id": "ae1TWIxAoAin"
      }
    },
    {
      "cell_type": "markdown",
      "source": [
        "---\n",
        "###**Resolución de sudokus por backtrakking**:\n",
        "\n",
        "---"
      ],
      "metadata": {
        "id": "bRTaYDDAoGuB"
      }
    },
    {
      "cell_type": "code",
      "source": [
        "# soluciones de sudokus por backtrakking\n",
        "\n",
        "def solve_sudoku(board):\n",
        "    empty = find_empty(board)\n",
        "    if not empty:\n",
        "        return True  # No quedan casillas vacías, el sudoku está resuelto.\n",
        "\n",
        "    row, col = empty\n",
        "\n",
        "    for num in range(1, 10):\n",
        "        if is_valid(board, num, (row, col)):\n",
        "            board[row][col] = num\n",
        "\n",
        "            if solve_sudoku(board):\n",
        "                return True\n",
        "\n",
        "            board[row][col] = 0  # Si no se encuentra una solución, restablecer la casilla.\n",
        "\n",
        "    return False\n",
        "\n",
        "def find_empty(board):\n",
        "    for i in range(len(board)):\n",
        "        for j in range(len(board[i])):\n",
        "            if board[i][j] == 0:\n",
        "                return (i, j)\n",
        "    return None\n",
        "\n",
        "def is_valid(board, num, pos):\n",
        "    # Verificar la fila\n",
        "    for i in range(len(board[0])):\n",
        "        if board[pos[0]][i] == num and pos[1] != i:\n",
        "            return False\n",
        "\n",
        "    # Verificar la columna\n",
        "    for i in range(len(board)):\n",
        "        if board[i][pos[1]] == num and pos[0] != i:\n",
        "            return False\n",
        "\n",
        "    # Verificar el cuadro de 3x3\n",
        "    box_x = pos[1] // 3\n",
        "    box_y = pos[0] // 3\n",
        "    for i in range(box_y * 3, box_y * 3 + 3):\n",
        "        for j in range(box_x * 3, box_x * 3 + 3):\n",
        "            if board[i][j] == num and (i, j) != pos:\n",
        "                return False\n",
        "\n",
        "    return True\n",
        "\n",
        "def print_board(board):\n",
        "    for i in range(len(board)):\n",
        "        if i % 3 == 0 and i != 0:\n",
        "            print(\"- - - - - - - - - - - -\")\n",
        "        for j in range(len(board[i])):\n",
        "            if j % 3 == 0 and j != 0:\n",
        "                print(\" | \", end=\"\")\n",
        "            if j == 8:\n",
        "                print(board[i][j])\n",
        "            else:\n",
        "                print(str(board[i][j]) + \" \", end=\"\")\n",
        "\n",
        "# Ejemplo de uso:\n",
        "sudoku_board = [\n",
        "    [8, 0, 0, 6, 0, 3, 0, 0, 1],\n",
        "    [0, 5, 7, 4, 0, 1, 6, 3, 0],\n",
        "    [0, 0, 0, 0, 0, 0, 0, 0, 0],\n",
        "    [0, 0, 6, 1, 0, 9, 8, 0, 0],\n",
        "    [4, 0, 0, 0, 0, 0, 0, 0, 7],\n",
        "    [0, 0, 1, 8, 0, 5, 4, 0, 0],\n",
        "    [0, 0, 0, 0, 0, 0, 0, 0, 0],\n",
        "    [0, 7, 2, 5, 0, 4, 3, 1, 0],\n",
        "    [9, 0, 0, 3, 0, 2, 0, 0, 4]\n",
        "]\n",
        "\n",
        "print(\"Tablero Original:\")\n",
        "print_board(sudoku_board)\n",
        "solve_sudoku(sudoku_board)\n",
        "print(\"\\nTablero Resuelto:\")\n",
        "print_board(sudoku_board)\n"
      ],
      "metadata": {
        "id": "p4XZXjDPnw2k"
      },
      "execution_count": null,
      "outputs": []
    }
  ],
  "metadata": {
    "colab": {
      "provenance": [],
      "toc_visible": true
    },
    "kernelspec": {
      "display_name": "Python 3",
      "name": "python3"
    },
    "language_info": {
      "name": "python"
    }
  },
  "nbformat": 4,
  "nbformat_minor": 0
}